{
 "cells": [
  {
   "cell_type": "code",
   "execution_count": 1,
   "metadata": {
    "scrolled": false
   },
   "outputs": [
    {
     "data": {
      "text/markdown": [
       "### Matrizes F e J"
      ],
      "text/plain": [
       "<IPython.core.display.Markdown object>"
      ]
     },
     "metadata": {},
     "output_type": "display_data"
    },
    {
     "data": {
      "text/markdown": [
       "$ F = \\begin{bmatrix}- a \\sin{\\left(\\theta \\right)} & -1\\\\ - a \\cos{\\left(\\theta \\right)} & 0\\\\ 0 & -1\\\\ 0 & 0\\\\ \\end{bmatrix}\\qquad J = \\begin{bmatrix}- y \\sin{\\left(\\varphi \\right)} & \\cos{\\left(\\varphi \\right)} & 0 & 0\\\\ y \\cos{\\left(\\varphi \\right)} & \\sin{\\left(\\varphi \\right)} & 0 & 0\\\\ - x \\sin{\\left(\\varphi \\right)} & 0 & b \\sin{\\left(\\delta \\right)} & \\cos{\\left(\\varphi \\right)}\\\\ x \\cos{\\left(\\varphi \\right)} & 0 & - b \\cos{\\left(\\delta \\right)} & \\sin{\\left(\\varphi \\right)}\\\\ \\end{bmatrix}  $"
      ],
      "text/plain": [
       "<IPython.core.display.Markdown object>"
      ]
     },
     "metadata": {},
     "output_type": "display_data"
    },
    {
     "data": {
      "text/markdown": [
       "### Matrizes de resolução velocidades (Não somos robô  🦇) 😈"
      ],
      "text/plain": [
       "<IPython.core.display.Markdown object>"
      ]
     },
     "metadata": {},
     "output_type": "display_data"
    },
    {
     "data": {
      "text/latex": [
       "$\\displaystyle \\left[\\begin{matrix}k_{\\theta.\\varphi}\\\\k_{\\theta.y}\\end{matrix}\\right]=\\frac{1}{y}\\left[\\begin{matrix}\\sin{\\left(\\varphi \\right)} & - \\cos{\\left(\\varphi \\right)}\\\\- y \\cos{\\left(\\varphi \\right)} & - y \\sin{\\left(\\varphi \\right)}\\end{matrix}\\right]\\left[\\begin{matrix}- a \\sin{\\left(\\theta \\right)}\\\\- a \\cos{\\left(\\theta \\right)}\\end{matrix}\\right]$"
      ],
      "text/plain": [
       "<IPython.core.display.Math object>"
      ]
     },
     "metadata": {},
     "output_type": "display_data"
    },
    {
     "data": {
      "text/latex": [
       "$\\displaystyle \\left[\\begin{matrix}k_{z.\\varphi}\\\\k_{z.y}\\end{matrix}\\right]=\\frac{1}{y}\\left[\\begin{matrix}\\sin{\\left(\\varphi \\right)} & - \\cos{\\left(\\varphi \\right)}\\\\- y \\cos{\\left(\\varphi \\right)} & - y \\sin{\\left(\\varphi \\right)}\\end{matrix}\\right]\\left[\\begin{matrix}-1\\\\0\\end{matrix}\\right]$"
      ],
      "text/plain": [
       "<IPython.core.display.Math object>"
      ]
     },
     "metadata": {},
     "output_type": "display_data"
    },
    {
     "data": {
      "text/latex": [
       "$\\displaystyle \\left[\\begin{matrix}k_{\\theta.\\delta}\\\\k_{\\theta.x}\\end{matrix}\\right]=- \\frac{1}{b \\cos{\\left(\\delta - \\varphi \\right)}}\\left[\\begin{matrix}\\sin{\\left(\\varphi \\right)} & - \\cos{\\left(\\varphi \\right)}\\\\b \\cos{\\left(\\delta \\right)} & b \\sin{\\left(\\delta \\right)}\\end{matrix}\\right](\\left[\\begin{matrix}0\\\\0\\end{matrix}\\right]+k_{\\theta.\\varphi}\\left[\\begin{matrix}- x \\sin{\\left(\\varphi \\right)}\\\\x \\cos{\\left(\\varphi \\right)}\\end{matrix}\\right]+k_{\\theta.y}\\left[\\begin{matrix}0\\\\0\\end{matrix}\\right])$"
      ],
      "text/plain": [
       "<IPython.core.display.Math object>"
      ]
     },
     "metadata": {},
     "output_type": "display_data"
    },
    {
     "data": {
      "text/latex": [
       "$\\displaystyle \\left[\\begin{matrix}k_{z.\\delta}\\\\k_{z.x}\\end{matrix}\\right]=- \\frac{1}{b \\cos{\\left(\\delta - \\varphi \\right)}}\\left[\\begin{matrix}\\sin{\\left(\\varphi \\right)} & - \\cos{\\left(\\varphi \\right)}\\\\b \\cos{\\left(\\delta \\right)} & b \\sin{\\left(\\delta \\right)}\\end{matrix}\\right](\\left[\\begin{matrix}-1\\\\0\\end{matrix}\\right]+k_{z.\\varphi}\\left[\\begin{matrix}- x \\sin{\\left(\\varphi \\right)}\\\\x \\cos{\\left(\\varphi \\right)}\\end{matrix}\\right]+k_{z.y}\\left[\\begin{matrix}0\\\\0\\end{matrix}\\right])$"
      ],
      "text/plain": [
       "<IPython.core.display.Math object>"
      ]
     },
     "metadata": {},
     "output_type": "display_data"
    },
    {
     "data": {
      "text/markdown": [
       "### Coeficientes de Velocidade"
      ],
      "text/plain": [
       "<IPython.core.display.Markdown object>"
      ]
     },
     "metadata": {},
     "output_type": "display_data"
    },
    {
     "data": {
      "text/markdown": [
       "$ k_{\\theta \\varphi } = \\frac{a \\cos{\\left(\\theta + \\varphi \\right)}}{y} \\qquad k_{z \\varphi } = - \\frac{\\sin{\\left(\\varphi \\right)}}{y} \\qquad k_{\\theta y } = a \\sin{\\left(\\theta + \\varphi \\right)} \\qquad k_{z y } = \\cos{\\left(\\varphi \\right)} \\qquad k_{\\theta \\delta } = \\frac{a x \\cos{\\left(\\theta + \\varphi \\right)}}{b y \\cos{\\left(\\delta - \\varphi \\right)}} \\qquad k_{z \\delta } = \\frac{\\left(- x + y\\right) \\sin{\\left(\\varphi \\right)}}{b y \\cos{\\left(\\delta - \\varphi \\right)}} \\qquad k_{\\theta x } = - \\frac{a x \\cos{\\left(\\theta + \\varphi \\right)} \\tan{\\left(\\delta - \\varphi \\right)}}{y} \\qquad k_{z x } = \\frac{x \\sin{\\left(\\varphi \\right)} \\tan{\\left(\\delta - \\varphi \\right)}}{y} + \\frac{\\cos{\\left(\\delta \\right)}}{\\cos{\\left(\\delta - \\varphi \\right)}} \\qquad  $"
      ],
      "text/plain": [
       "<IPython.core.display.Markdown object>"
      ]
     },
     "metadata": {},
     "output_type": "display_data"
    },
    {
     "data": {
      "text/markdown": [
       "### Matrizes de resolução acelerações (Não somos robô  🦇) 😈"
      ],
      "text/plain": [
       "<IPython.core.display.Markdown object>"
      ]
     },
     "metadata": {},
     "output_type": "display_data"
    },
    {
     "data": {
      "text/markdown": [
       "##### Matriz L"
      ],
      "text/plain": [
       "<IPython.core.display.Markdown object>"
      ]
     },
     "metadata": {},
     "output_type": "display_data"
    },
    {
     "data": {
      "text/latex": [
       "$\\displaystyle \\left[\\begin{matrix}\\ell_{\\theta.\\varphi}\\\\\\ell_{\\theta.y}\\\\\\ell_{\\theta.\\delta}\\\\\\ell_{\\theta.x}\\end{matrix}\\right]=\\frac{1}{\\dot{\\theta}}(\\left[\\begin{matrix}\\frac{d}{d \\theta} k_{\\theta.\\varphi} & \\frac{d}{d z} k_{\\theta.\\varphi}\\\\\\frac{d}{d \\theta} k_{\\theta.y} & \\frac{d}{d z} k_{\\theta.y}\\\\\\frac{d}{d \\theta} k_{\\theta.\\delta} & \\frac{d}{d z} k_{\\theta.\\delta}\\\\\\frac{d}{d \\theta} k_{\\theta.x} & \\frac{d}{d z} k_{\\theta.x}\\end{matrix}\\right]\\left[\\begin{matrix}\\dot{\\theta}\\\\\\dot{z}\\end{matrix}\\right]+\\left[\\begin{matrix}\\frac{d}{d \\varphi} k_{\\theta.\\varphi} & \\frac{d}{d y} k_{\\theta.\\varphi} & \\frac{d}{d \\delta} k_{\\theta.\\varphi} & \\frac{d}{d x} k_{\\theta.\\varphi}\\\\\\frac{d}{d \\varphi} k_{\\theta.y} & \\frac{d}{d y} k_{\\theta.y} & \\frac{d}{d \\delta} k_{\\theta.y} & \\frac{d}{d x} k_{\\theta.y}\\\\\\frac{d}{d \\varphi} k_{\\theta.\\delta} & \\frac{d}{d y} k_{\\theta.\\delta} & \\frac{d}{d \\delta} k_{\\theta.\\delta} & \\frac{d}{d x} k_{\\theta.\\delta}\\\\\\frac{d}{d \\varphi} k_{\\theta.x} & \\frac{d}{d y} k_{\\theta.x} & \\frac{d}{d \\delta} k_{\\theta.x} & \\frac{d}{d x} k_{\\theta.x}\\end{matrix}\\right]\\left[\\begin{matrix}\\dot{\\varphi}\\\\\\dot{y}\\\\\\dot{\\delta}\\\\\\dot{x}\\end{matrix}\\right])$"
      ],
      "text/plain": [
       "<IPython.core.display.Math object>"
      ]
     },
     "metadata": {},
     "output_type": "display_data"
    },
    {
     "data": {
      "text/markdown": [
       "##### Derivadas"
      ],
      "text/plain": [
       "<IPython.core.display.Markdown object>"
      ]
     },
     "metadata": {},
     "output_type": "display_data"
    },
    {
     "data": {
      "text/markdown": [
       "$ \\frac{d}{d \\theta} k_{\\theta.\\varphi}=- \\frac{a \\sin{\\left(\\theta + \\varphi \\right)}}{y} \\qquad  \\frac{d}{d \\theta} k_{\\theta.y}=a \\cos{\\left(\\theta + \\varphi \\right)} \\qquad  \\frac{d}{d \\theta} k_{\\theta.\\delta}=- \\frac{a x \\sin{\\left(\\theta + \\varphi \\right)}}{b y \\cos{\\left(\\delta - \\varphi \\right)}} \\qquad  \\frac{d}{d \\theta} k_{\\theta.x}=\\frac{a x \\sin{\\left(\\theta + \\varphi \\right)} \\tan{\\left(\\delta - \\varphi \\right)}}{y} \\qquad  \\frac{d}{d z} k_{\\theta.\\varphi}=0 \\qquad  \\frac{d}{d z} k_{\\theta.y}=0 \\qquad  \\frac{d}{d z} k_{\\theta.\\delta}=0 \\qquad  \\frac{d}{d z} k_{\\theta.x}=0 \\qquad  \\frac{d}{d \\varphi} k_{\\theta.\\varphi}=- \\frac{a \\sin{\\left(\\theta + \\varphi \\right)}}{y} \\qquad  \\frac{d}{d \\varphi} k_{\\theta.y}=a \\cos{\\left(\\theta + \\varphi \\right)} \\qquad  \\frac{d}{d \\varphi} k_{\\theta.\\delta}=- \\frac{a x \\sin{\\left(\\delta - \\varphi \\right)} \\cos{\\left(\\theta + \\varphi \\right)}}{b y \\cos^{2}{\\left(\\delta - \\varphi \\right)}} - \\frac{a x \\sin{\\left(\\theta + \\varphi \\right)}}{b y \\cos{\\left(\\delta - \\varphi \\right)}} \\qquad  \\frac{d}{d \\varphi} k_{\\theta.x}=- \\frac{a x \\left(- \\tan^{2}{\\left(\\delta - \\varphi \\right)} - 1\\right) \\cos{\\left(\\theta + \\varphi \\right)}}{y} + \\frac{a x \\sin{\\left(\\theta + \\varphi \\right)} \\tan{\\left(\\delta - \\varphi \\right)}}{y} \\qquad  \\frac{d}{d y} k_{\\theta.\\varphi}=- \\frac{a \\cos{\\left(\\theta + \\varphi \\right)}}{y^{2}} \\qquad  \\frac{d}{d y} k_{\\theta.y}=0 \\qquad  \\frac{d}{d y} k_{\\theta.\\delta}=- \\frac{a x \\cos{\\left(\\theta + \\varphi \\right)}}{b y^{2} \\cos{\\left(\\delta - \\varphi \\right)}} \\qquad  \\frac{d}{d y} k_{\\theta.x}=\\frac{a x \\cos{\\left(\\theta + \\varphi \\right)} \\tan{\\left(\\delta - \\varphi \\right)}}{y^{2}} \\qquad  \\frac{d}{d \\delta} k_{\\theta.\\varphi}=0 \\qquad  \\frac{d}{d \\delta} k_{\\theta.y}=0 \\qquad  \\frac{d}{d \\delta} k_{\\theta.\\delta}=\\frac{a x \\sin{\\left(\\delta - \\varphi \\right)} \\cos{\\left(\\theta + \\varphi \\right)}}{b y \\cos^{2}{\\left(\\delta - \\varphi \\right)}} \\qquad  \\frac{d}{d \\delta} k_{\\theta.x}=- \\frac{a x \\left(\\tan^{2}{\\left(\\delta - \\varphi \\right)} + 1\\right) \\cos{\\left(\\theta + \\varphi \\right)}}{y} \\qquad  \\frac{d}{d x} k_{\\theta.\\varphi}=0 \\qquad  \\frac{d}{d x} k_{\\theta.y}=0 \\qquad  \\frac{d}{d x} k_{\\theta.\\delta}=\\frac{a \\cos{\\left(\\theta + \\varphi \\right)}}{b y \\cos{\\left(\\delta - \\varphi \\right)}} \\qquad  \\frac{d}{d x} k_{\\theta.x}=- \\frac{a \\cos{\\left(\\theta + \\varphi \\right)} \\tan{\\left(\\delta - \\varphi \\right)}}{y} \\qquad  $"
      ],
      "text/plain": [
       "<IPython.core.display.Markdown object>"
      ]
     },
     "metadata": {},
     "output_type": "display_data"
    },
    {
     "data": {
      "text/markdown": [
       "##### Matriz L"
      ],
      "text/plain": [
       "<IPython.core.display.Markdown object>"
      ]
     },
     "metadata": {},
     "output_type": "display_data"
    },
    {
     "data": {
      "text/latex": [
       "$\\displaystyle \\left[\\begin{matrix}\\ell_{z.\\varphi}\\\\\\ell_{z.y}\\\\\\ell_{z.\\delta}\\\\\\ell_{z.x}\\end{matrix}\\right]=\\frac{1}{\\dot{z}}(\\left[\\begin{matrix}\\frac{d}{d \\theta} k_{z.\\varphi} & \\frac{d}{d z} k_{z.\\varphi}\\\\\\frac{d}{d \\theta} k_{z.y} & \\frac{d}{d z} k_{z.y}\\\\\\frac{d}{d \\theta} k_{z.\\delta} & \\frac{d}{d z} k_{z.\\delta}\\\\\\frac{d}{d \\theta} k_{z.x} & \\frac{d}{d z} k_{z.x}\\end{matrix}\\right]\\left[\\begin{matrix}\\dot{\\theta}\\\\\\dot{z}\\end{matrix}\\right]+\\left[\\begin{matrix}\\frac{d}{d \\varphi} k_{z.\\varphi} & \\frac{d}{d y} k_{z.\\varphi} & \\frac{d}{d \\delta} k_{z.\\varphi} & \\frac{d}{d x} k_{z.\\varphi}\\\\\\frac{d}{d \\varphi} k_{z.y} & \\frac{d}{d y} k_{z.y} & \\frac{d}{d \\delta} k_{z.y} & \\frac{d}{d x} k_{z.y}\\\\\\frac{d}{d \\varphi} k_{z.\\delta} & \\frac{d}{d y} k_{z.\\delta} & \\frac{d}{d \\delta} k_{z.\\delta} & \\frac{d}{d x} k_{z.\\delta}\\\\\\frac{d}{d \\varphi} k_{z.x} & \\frac{d}{d y} k_{z.x} & \\frac{d}{d \\delta} k_{z.x} & \\frac{d}{d x} k_{z.x}\\end{matrix}\\right]\\left[\\begin{matrix}\\dot{\\varphi}\\\\\\dot{y}\\\\\\dot{\\delta}\\\\\\dot{x}\\end{matrix}\\right])$"
      ],
      "text/plain": [
       "<IPython.core.display.Math object>"
      ]
     },
     "metadata": {},
     "output_type": "display_data"
    },
    {
     "data": {
      "text/markdown": [
       "##### Derivadas"
      ],
      "text/plain": [
       "<IPython.core.display.Markdown object>"
      ]
     },
     "metadata": {},
     "output_type": "display_data"
    },
    {
     "data": {
      "text/markdown": [
       "$ \\frac{d}{d \\theta} k_{z.\\varphi}=0 \\qquad  \\frac{d}{d \\theta} k_{z.y}=0 \\qquad  \\frac{d}{d \\theta} k_{z.\\delta}=0 \\qquad  \\frac{d}{d \\theta} k_{z.x}=0 \\qquad  \\frac{d}{d z} k_{z.\\varphi}=0 \\qquad  \\frac{d}{d z} k_{z.y}=0 \\qquad  \\frac{d}{d z} k_{z.\\delta}=0 \\qquad  \\frac{d}{d z} k_{z.x}=0 \\qquad  \\frac{d}{d \\varphi} k_{z.\\varphi}=- \\frac{\\cos{\\left(\\varphi \\right)}}{y} \\qquad  \\frac{d}{d \\varphi} k_{z.y}=- \\sin{\\left(\\varphi \\right)} \\qquad  \\frac{d}{d \\varphi} k_{z.\\delta}=- \\frac{\\left(- x + y\\right) \\sin{\\left(\\varphi \\right)} \\sin{\\left(\\delta - \\varphi \\right)}}{b y \\cos^{2}{\\left(\\delta - \\varphi \\right)}} + \\frac{\\left(- x + y\\right) \\cos{\\left(\\varphi \\right)}}{b y \\cos{\\left(\\delta - \\varphi \\right)}} \\qquad  \\frac{d}{d \\varphi} k_{z.x}=\\frac{x \\left(- \\tan^{2}{\\left(\\delta - \\varphi \\right)} - 1\\right) \\sin{\\left(\\varphi \\right)}}{y} + \\frac{x \\cos{\\left(\\varphi \\right)} \\tan{\\left(\\delta - \\varphi \\right)}}{y} - \\frac{\\sin{\\left(\\delta - \\varphi \\right)} \\cos{\\left(\\delta \\right)}}{\\cos^{2}{\\left(\\delta - \\varphi \\right)}} \\qquad  \\frac{d}{d y} k_{z.\\varphi}=\\frac{\\sin{\\left(\\varphi \\right)}}{y^{2}} \\qquad  \\frac{d}{d y} k_{z.y}=0 \\qquad  \\frac{d}{d y} k_{z.\\delta}=\\frac{\\sin{\\left(\\varphi \\right)}}{b y \\cos{\\left(\\delta - \\varphi \\right)}} - \\frac{\\left(- x + y\\right) \\sin{\\left(\\varphi \\right)}}{b y^{2} \\cos{\\left(\\delta - \\varphi \\right)}} \\qquad  \\frac{d}{d y} k_{z.x}=- \\frac{x \\sin{\\left(\\varphi \\right)} \\tan{\\left(\\delta - \\varphi \\right)}}{y^{2}} \\qquad  \\frac{d}{d \\delta} k_{z.\\varphi}=0 \\qquad  \\frac{d}{d \\delta} k_{z.y}=0 \\qquad  \\frac{d}{d \\delta} k_{z.\\delta}=\\frac{\\left(- x + y\\right) \\sin{\\left(\\varphi \\right)} \\sin{\\left(\\delta - \\varphi \\right)}}{b y \\cos^{2}{\\left(\\delta - \\varphi \\right)}} \\qquad  \\frac{d}{d \\delta} k_{z.x}=\\frac{x \\left(\\tan^{2}{\\left(\\delta - \\varphi \\right)} + 1\\right) \\sin{\\left(\\varphi \\right)}}{y} - \\frac{\\sin{\\left(\\delta \\right)}}{\\cos{\\left(\\delta - \\varphi \\right)}} + \\frac{\\sin{\\left(\\delta - \\varphi \\right)} \\cos{\\left(\\delta \\right)}}{\\cos^{2}{\\left(\\delta - \\varphi \\right)}} \\qquad  \\frac{d}{d x} k_{z.\\varphi}=0 \\qquad  \\frac{d}{d x} k_{z.y}=0 \\qquad  \\frac{d}{d x} k_{z.\\delta}=- \\frac{\\sin{\\left(\\varphi \\right)}}{b y \\cos{\\left(\\delta - \\varphi \\right)}} \\qquad  \\frac{d}{d x} k_{z.x}=\\frac{\\sin{\\left(\\varphi \\right)} \\tan{\\left(\\delta - \\varphi \\right)}}{y} \\qquad  $"
      ],
      "text/plain": [
       "<IPython.core.display.Markdown object>"
      ]
     },
     "metadata": {},
     "output_type": "display_data"
    },
    {
     "data": {
      "text/markdown": [
       "### Coeficientes da Aceleração"
      ],
      "text/plain": [
       "<IPython.core.display.Markdown object>"
      ]
     },
     "metadata": {},
     "output_type": "display_data"
    },
    {
     "data": {
      "text/markdown": [
       "$ \\ell_{\\theta \\varphi} = - \\frac{a \\sin{\\left(\\theta + \\varphi \\right)}}{y} - \\frac{\\dot{\\varphi} a \\sin{\\left(\\theta + \\varphi \\right)}}{\\dot{\\theta} y} - \\frac{\\dot{y} a \\cos{\\left(\\theta + \\varphi \\right)}}{\\dot{\\theta} y^{2}} \\qquad \\ell_{z \\varphi} = - \\frac{\\dot{\\varphi} \\cos{\\left(\\varphi \\right)}}{\\dot{z} y} + \\frac{\\dot{y} \\sin{\\left(\\varphi \\right)}}{\\dot{z} y^{2}} \\qquad \\ell_{\\theta y} = a \\cos{\\left(\\theta + \\varphi \\right)} + \\frac{\\dot{\\varphi} a \\cos{\\left(\\theta + \\varphi \\right)}}{\\dot{\\theta}} \\qquad \\ell_{z y} = - \\frac{\\dot{\\varphi} \\sin{\\left(\\varphi \\right)}}{\\dot{z}} \\qquad \\ell_{\\theta \\delta} = \\frac{\\dot{\\delta} a x \\sin{\\left(\\delta - \\varphi \\right)} \\cos{\\left(\\theta + \\varphi \\right)}}{\\dot{\\theta} b y \\cos^{2}{\\left(\\delta - \\varphi \\right)}} - \\frac{a x \\sin{\\left(\\theta + \\varphi \\right)}}{b y \\cos{\\left(\\delta - \\varphi \\right)}} + \\frac{\\dot{\\varphi} \\left(- \\frac{a x \\sin{\\left(\\delta - \\varphi \\right)} \\cos{\\left(\\theta + \\varphi \\right)}}{b y \\cos^{2}{\\left(\\delta - \\varphi \\right)}} - \\frac{a x \\sin{\\left(\\theta + \\varphi \\right)}}{b y \\cos{\\left(\\delta - \\varphi \\right)}}\\right)}{\\dot{\\theta}} + \\frac{\\dot{x} a \\cos{\\left(\\theta + \\varphi \\right)}}{\\dot{\\theta} b y \\cos{\\left(\\delta - \\varphi \\right)}} - \\frac{\\dot{y} a x \\cos{\\left(\\theta + \\varphi \\right)}}{\\dot{\\theta} b y^{2} \\cos{\\left(\\delta - \\varphi \\right)}} \\qquad \\ell_{z \\delta} = \\frac{\\dot{\\delta} \\left(- x + y\\right) \\sin{\\left(\\varphi \\right)} \\sin{\\left(\\delta - \\varphi \\right)}}{\\dot{z} b y \\cos^{2}{\\left(\\delta - \\varphi \\right)}} + \\frac{\\dot{\\varphi} \\left(- \\frac{\\left(- x + y\\right) \\sin{\\left(\\varphi \\right)} \\sin{\\left(\\delta - \\varphi \\right)}}{b y \\cos^{2}{\\left(\\delta - \\varphi \\right)}} + \\frac{\\left(- x + y\\right) \\cos{\\left(\\varphi \\right)}}{b y \\cos{\\left(\\delta - \\varphi \\right)}}\\right)}{\\dot{z}} - \\frac{\\dot{x} \\sin{\\left(\\varphi \\right)}}{\\dot{z} b y \\cos{\\left(\\delta - \\varphi \\right)}} + \\frac{\\dot{y} \\left(\\frac{\\sin{\\left(\\varphi \\right)}}{b y \\cos{\\left(\\delta - \\varphi \\right)}} - \\frac{\\left(- x + y\\right) \\sin{\\left(\\varphi \\right)}}{b y^{2} \\cos{\\left(\\delta - \\varphi \\right)}}\\right)}{\\dot{z}} \\qquad \\ell_{\\theta x} = - \\frac{\\dot{\\delta} a x \\left(\\tan^{2}{\\left(\\delta - \\varphi \\right)} + 1\\right) \\cos{\\left(\\theta + \\varphi \\right)}}{\\dot{\\theta} y} + \\frac{a x \\sin{\\left(\\theta + \\varphi \\right)} \\tan{\\left(\\delta - \\varphi \\right)}}{y} + \\frac{\\dot{\\varphi} \\left(- \\frac{a x \\left(- \\tan^{2}{\\left(\\delta - \\varphi \\right)} - 1\\right) \\cos{\\left(\\theta + \\varphi \\right)}}{y} + \\frac{a x \\sin{\\left(\\theta + \\varphi \\right)} \\tan{\\left(\\delta - \\varphi \\right)}}{y}\\right)}{\\dot{\\theta}} - \\frac{\\dot{x} a \\cos{\\left(\\theta + \\varphi \\right)} \\tan{\\left(\\delta - \\varphi \\right)}}{\\dot{\\theta} y} + \\frac{\\dot{y} a x \\cos{\\left(\\theta + \\varphi \\right)} \\tan{\\left(\\delta - \\varphi \\right)}}{\\dot{\\theta} y^{2}} \\qquad \\ell_{z x} = \\frac{\\dot{\\delta} \\left(\\frac{x \\left(\\tan^{2}{\\left(\\delta - \\varphi \\right)} + 1\\right) \\sin{\\left(\\varphi \\right)}}{y} - \\frac{\\sin{\\left(\\delta \\right)}}{\\cos{\\left(\\delta - \\varphi \\right)}} + \\frac{\\sin{\\left(\\delta - \\varphi \\right)} \\cos{\\left(\\delta \\right)}}{\\cos^{2}{\\left(\\delta - \\varphi \\right)}}\\right)}{\\dot{z}} + \\frac{\\dot{\\varphi} \\left(\\frac{x \\left(- \\tan^{2}{\\left(\\delta - \\varphi \\right)} - 1\\right) \\sin{\\left(\\varphi \\right)}}{y} + \\frac{x \\cos{\\left(\\varphi \\right)} \\tan{\\left(\\delta - \\varphi \\right)}}{y} - \\frac{\\sin{\\left(\\delta - \\varphi \\right)} \\cos{\\left(\\delta \\right)}}{\\cos^{2}{\\left(\\delta - \\varphi \\right)}}\\right)}{\\dot{z}} + \\frac{\\dot{x} \\sin{\\left(\\varphi \\right)} \\tan{\\left(\\delta - \\varphi \\right)}}{\\dot{z} y} - \\frac{\\dot{y} x \\sin{\\left(\\varphi \\right)} \\tan{\\left(\\delta - \\varphi \\right)}}{\\dot{z} y^{2}} \\qquad  $"
      ],
      "text/plain": [
       "<IPython.core.display.Markdown object>"
      ]
     },
     "metadata": {},
     "output_type": "display_data"
    }
   ],
   "source": [
    "from LinkageMechanism import *\n",
    "\n",
    "f1 = y*cos(φ) + a*cos(θ) - z\n",
    "f2 = y*sin(φ) - a*sin(θ)\n",
    "f3 = x*cos(φ) - b*cos(δ) - z\n",
    "f4 = x*sin(φ) - b*sin(δ)\n",
    "\n",
    "coord = [θ, z, φ, y, δ, x]\n",
    "eq = [f1,f2,f3,f4]\n",
    "\n",
    "dof = len(coord) - len(eq)\n",
    "\n",
    "MecSolve ( coord, eq )\n",
    "\n",
    "F,J,K,L = MecSolve (coord , eq , ReturnMatrices)"
   ]
  },
  {
   "cell_type": "code",
   "execution_count": 15,
   "metadata": {},
   "outputs": [
    {
     "data": {
      "text/markdown": [
       "### Matrizes F e J"
      ],
      "text/plain": [
       "<IPython.core.display.Markdown object>"
      ]
     },
     "metadata": {},
     "output_type": "display_data"
    },
    {
     "data": {
      "text/markdown": [
       "$ F = \\begin{bmatrix}- a \\sin{\\left(\\theta \\right)} & -1\\\\ a \\cos{\\left(\\theta \\right)} & 0\\\\ \\end{bmatrix}\\qquad J = \\begin{bmatrix}- b \\sin{\\left(\\alpha \\right)} & - c \\sin{\\left(\\beta \\right)}\\\\ b \\cos{\\left(\\alpha \\right)} & - c \\cos{\\left(\\beta \\right)}\\\\ \\end{bmatrix}  $"
      ],
      "text/plain": [
       "<IPython.core.display.Markdown object>"
      ]
     },
     "metadata": {},
     "output_type": "display_data"
    },
    {
     "data": {
      "text/markdown": [
       "### Inversa de J"
      ],
      "text/plain": [
       "<IPython.core.display.Markdown object>"
      ]
     },
     "metadata": {},
     "output_type": "display_data"
    },
    {
     "data": {
      "text/latex": [
       "$\\displaystyle - \\frac{1}{b c \\sin{\\left(\\alpha + \\beta \\right)}}\\left[\\begin{matrix}- c \\cos{\\left(\\beta \\right)} & c \\sin{\\left(\\beta \\right)}\\\\- b \\cos{\\left(\\alpha \\right)} & - b \\sin{\\left(\\alpha \\right)}\\end{matrix}\\right]$"
      ],
      "text/plain": [
       "<IPython.core.display.Math object>"
      ]
     },
     "metadata": {},
     "output_type": "display_data"
    },
    {
     "data": {
      "text/markdown": [
       "### Matrizes de resolução (Balanga meu taco @ZéVampiro 🦇) 😈🍆"
      ],
      "text/plain": [
       "<IPython.core.display.Markdown object>"
      ]
     },
     "metadata": {},
     "output_type": "display_data"
    },
    {
     "data": {
      "text/latex": [
       "$\\displaystyle \\left[\\begin{matrix}k_{\\theta.\\alpha}\\\\k_{\\theta.\\beta}\\end{matrix}\\right]=\\frac{1}{b c \\sin{\\left(\\alpha + \\beta \\right)}}\\left[\\begin{matrix}- c \\cos{\\left(\\beta \\right)} & c \\sin{\\left(\\beta \\right)}\\\\- b \\cos{\\left(\\alpha \\right)} & - b \\sin{\\left(\\alpha \\right)}\\end{matrix}\\right]\\left[\\begin{matrix}- a \\sin{\\left(\\theta \\right)}\\\\a \\cos{\\left(\\theta \\right)}\\end{matrix}\\right]$"
      ],
      "text/plain": [
       "<IPython.core.display.Math object>"
      ]
     },
     "metadata": {},
     "output_type": "display_data"
    },
    {
     "data": {
      "text/latex": [
       "$\\displaystyle \\left[\\begin{matrix}k_{x.\\alpha}\\\\k_{x.\\beta}\\end{matrix}\\right]=\\frac{1}{b c \\sin{\\left(\\alpha + \\beta \\right)}}\\left[\\begin{matrix}- c \\cos{\\left(\\beta \\right)} & c \\sin{\\left(\\beta \\right)}\\\\- b \\cos{\\left(\\alpha \\right)} & - b \\sin{\\left(\\alpha \\right)}\\end{matrix}\\right]\\left[\\begin{matrix}-1\\\\0\\end{matrix}\\right]$"
      ],
      "text/plain": [
       "<IPython.core.display.Math object>"
      ]
     },
     "metadata": {},
     "output_type": "display_data"
    },
    {
     "data": {
      "text/markdown": [
       "### Coeficientes de Velocidade"
      ],
      "text/plain": [
       "<IPython.core.display.Markdown object>"
      ]
     },
     "metadata": {},
     "output_type": "display_data"
    },
    {
     "data": {
      "text/markdown": [
       "$ k_{\\theta \\alpha } = - \\frac{a \\sin{\\left(\\beta + \\theta \\right)}}{b \\sin{\\left(\\alpha + \\beta \\right)}} \\qquad k_{x \\alpha } = - \\frac{\\cos{\\left(\\beta \\right)}}{b \\sin{\\left(\\alpha + \\beta \\right)}} \\qquad k_{\\theta \\beta } = \\frac{a \\sin{\\left(\\alpha - \\theta \\right)}}{c \\sin{\\left(\\alpha + \\beta \\right)}} \\qquad k_{x \\beta } = - \\frac{\\cos{\\left(\\alpha \\right)}}{c \\sin{\\left(\\alpha + \\beta \\right)}} \\qquad  $"
      ],
      "text/plain": [
       "<IPython.core.display.Markdown object>"
      ]
     },
     "metadata": {},
     "output_type": "display_data"
    },
    {
     "data": {
      "text/markdown": [
       "### Coeficientes da Aceleração"
      ],
      "text/plain": [
       "<IPython.core.display.Markdown object>"
      ]
     },
     "metadata": {},
     "output_type": "display_data"
    },
    {
     "data": {
      "text/markdown": [
       "$ \\ell_{\\theta \\alpha} = \\frac{\\dot{\\alpha} a \\sin{\\left(\\beta + \\theta \\right)} \\cos{\\left(\\alpha + \\beta \\right)}}{\\dot{\\theta} b \\sin^{2}{\\left(\\alpha + \\beta \\right)}} + \\frac{\\dot{\\beta} \\left(- \\frac{a \\cos{\\left(\\beta + \\theta \\right)}}{b \\sin{\\left(\\alpha + \\beta \\right)}} + \\frac{a \\sin{\\left(\\beta + \\theta \\right)} \\cos{\\left(\\alpha + \\beta \\right)}}{b \\sin^{2}{\\left(\\alpha + \\beta \\right)}}\\right)}{\\dot{\\theta}} - \\frac{a \\cos{\\left(\\beta + \\theta \\right)}}{b \\sin{\\left(\\alpha + \\beta \\right)}} \\qquad \\ell_{x \\alpha} = \\frac{\\dot{\\alpha} \\cos{\\left(\\beta \\right)} \\cos{\\left(\\alpha + \\beta \\right)}}{\\dot{x} b \\sin^{2}{\\left(\\alpha + \\beta \\right)}} + \\frac{\\dot{\\beta} \\left(\\frac{\\sin{\\left(\\beta \\right)}}{b \\sin{\\left(\\alpha + \\beta \\right)}} + \\frac{\\cos{\\left(\\beta \\right)} \\cos{\\left(\\alpha + \\beta \\right)}}{b \\sin^{2}{\\left(\\alpha + \\beta \\right)}}\\right)}{\\dot{x}} \\qquad \\ell_{\\theta \\beta} = \\frac{\\dot{\\alpha} \\left(\\frac{a \\cos{\\left(\\alpha - \\theta \\right)}}{c \\sin{\\left(\\alpha + \\beta \\right)}} - \\frac{a \\sin{\\left(\\alpha - \\theta \\right)} \\cos{\\left(\\alpha + \\beta \\right)}}{c \\sin^{2}{\\left(\\alpha + \\beta \\right)}}\\right)}{\\dot{\\theta}} - \\frac{\\dot{\\beta} a \\sin{\\left(\\alpha - \\theta \\right)} \\cos{\\left(\\alpha + \\beta \\right)}}{\\dot{\\theta} c \\sin^{2}{\\left(\\alpha + \\beta \\right)}} - \\frac{a \\cos{\\left(\\alpha - \\theta \\right)}}{c \\sin{\\left(\\alpha + \\beta \\right)}} \\qquad \\ell_{x \\beta} = \\frac{\\dot{\\alpha} \\left(\\frac{\\sin{\\left(\\alpha \\right)}}{c \\sin{\\left(\\alpha + \\beta \\right)}} + \\frac{\\cos{\\left(\\alpha \\right)} \\cos{\\left(\\alpha + \\beta \\right)}}{c \\sin^{2}{\\left(\\alpha + \\beta \\right)}}\\right)}{\\dot{x}} + \\frac{\\dot{\\beta} \\cos{\\left(\\alpha \\right)} \\cos{\\left(\\alpha + \\beta \\right)}}{\\dot{x} c \\sin^{2}{\\left(\\alpha + \\beta \\right)}} \\qquad  $"
      ],
      "text/plain": [
       "<IPython.core.display.Markdown object>"
      ]
     },
     "metadata": {},
     "output_type": "display_data"
    }
   ],
   "source": [
    "from LinkageMechanism import *\n",
    "\n",
    "f1 = a*cos(θ) + b*cos(α) + c*cos(β) - x\n",
    "f2 = a*sin(θ) + b*sin(α) - c*sin(β)\n",
    "\n",
    "lista = [θ, x , α , β]\n",
    "\n",
    "dof = len(coord) - len(eq)\n",
    "\n",
    "MecSolve (lista , [f1,f2])\n",
    "\n",
    "F,J,K,L = MecSolve (lista , [f1,f2] , ReturnMatrices)"
   ]
  },
  {
   "cell_type": "code",
   "execution_count": 1,
   "metadata": {
    "scrolled": false
   },
   "outputs": [
    {
     "data": {
      "text/markdown": [
       "### Matrizes F e J"
      ],
      "text/plain": [
       "<IPython.core.display.Markdown object>"
      ]
     },
     "metadata": {},
     "output_type": "display_data"
    },
    {
     "data": {
      "text/markdown": [
       "$ F = \\begin{bmatrix}b \\sin{\\left(\\theta_{1} \\right)} & - a \\sin{\\left(\\theta_{2} \\right)} & -1\\\\ - b \\cos{\\left(\\theta_{1} \\right)} & a \\cos{\\left(\\theta_{2} \\right)} & 0\\\\ \\end{bmatrix}\\qquad J = \\begin{bmatrix}- y \\sin{\\left(\\varphi \\right)} & \\cos{\\left(\\varphi \\right)}\\\\ - y \\cos{\\left(\\varphi \\right)} & - \\sin{\\left(\\varphi \\right)}\\\\ \\end{bmatrix}  $"
      ],
      "text/plain": [
       "<IPython.core.display.Markdown object>"
      ]
     },
     "metadata": {},
     "output_type": "display_data"
    },
    {
     "data": {
      "text/markdown": [
       "### Inversa de J"
      ],
      "text/plain": [
       "<IPython.core.display.Markdown object>"
      ]
     },
     "metadata": {},
     "output_type": "display_data"
    },
    {
     "data": {
      "text/latex": [
       "$\\displaystyle \\frac{1}{y}\\left[\\begin{matrix}- \\sin{\\left(\\varphi \\right)} & - \\cos{\\left(\\varphi \\right)}\\\\y \\cos{\\left(\\varphi \\right)} & - y \\sin{\\left(\\varphi \\right)}\\end{matrix}\\right]$"
      ],
      "text/plain": [
       "<IPython.core.display.Math object>"
      ]
     },
     "metadata": {},
     "output_type": "display_data"
    },
    {
     "data": {
      "text/markdown": [
       "### Matrizes de resolução velocidades (Não somos robô  🦇) 😈"
      ],
      "text/plain": [
       "<IPython.core.display.Markdown object>"
      ]
     },
     "metadata": {},
     "output_type": "display_data"
    },
    {
     "data": {
      "text/latex": [
       "$\\displaystyle \\left[\\begin{matrix}k_{\\theta_{1}.\\varphi}\\\\k_{\\theta_{1}.y}\\end{matrix}\\right]=- \\frac{1}{y}\\left[\\begin{matrix}- \\sin{\\left(\\varphi \\right)} & - \\cos{\\left(\\varphi \\right)}\\\\y \\cos{\\left(\\varphi \\right)} & - y \\sin{\\left(\\varphi \\right)}\\end{matrix}\\right]\\left[\\begin{matrix}b \\sin{\\left(\\theta_{1} \\right)}\\\\- b \\cos{\\left(\\theta_{1} \\right)}\\end{matrix}\\right]$"
      ],
      "text/plain": [
       "<IPython.core.display.Math object>"
      ]
     },
     "metadata": {},
     "output_type": "display_data"
    },
    {
     "data": {
      "text/latex": [
       "$\\displaystyle \\left[\\begin{matrix}k_{\\theta_{2}.\\varphi}\\\\k_{\\theta_{2}.y}\\end{matrix}\\right]=- \\frac{1}{y}\\left[\\begin{matrix}- \\sin{\\left(\\varphi \\right)} & - \\cos{\\left(\\varphi \\right)}\\\\y \\cos{\\left(\\varphi \\right)} & - y \\sin{\\left(\\varphi \\right)}\\end{matrix}\\right]\\left[\\begin{matrix}- a \\sin{\\left(\\theta_{2} \\right)}\\\\a \\cos{\\left(\\theta_{2} \\right)}\\end{matrix}\\right]$"
      ],
      "text/plain": [
       "<IPython.core.display.Math object>"
      ]
     },
     "metadata": {},
     "output_type": "display_data"
    },
    {
     "data": {
      "text/latex": [
       "$\\displaystyle \\left[\\begin{matrix}k_{x.\\varphi}\\\\k_{x.y}\\end{matrix}\\right]=- \\frac{1}{y}\\left[\\begin{matrix}- \\sin{\\left(\\varphi \\right)} & - \\cos{\\left(\\varphi \\right)}\\\\y \\cos{\\left(\\varphi \\right)} & - y \\sin{\\left(\\varphi \\right)}\\end{matrix}\\right]\\left[\\begin{matrix}-1\\\\0\\end{matrix}\\right]$"
      ],
      "text/plain": [
       "<IPython.core.display.Math object>"
      ]
     },
     "metadata": {},
     "output_type": "display_data"
    },
    {
     "data": {
      "text/markdown": [
       "### Coeficientes de Velocidade"
      ],
      "text/plain": [
       "<IPython.core.display.Markdown object>"
      ]
     },
     "metadata": {},
     "output_type": "display_data"
    },
    {
     "data": {
      "text/markdown": [
       "$ k_{\\theta_1 \\varphi } = - \\frac{b \\cos{\\left(\\theta_{1} + \\varphi \\right)}}{y} \\qquad k_{\\theta_2 \\varphi } = \\frac{a \\cos{\\left(\\theta_{2} + \\varphi \\right)}}{y} \\qquad k_{x \\varphi } = - \\frac{\\sin{\\left(\\varphi \\right)}}{y} \\qquad k_{\\theta_1 y } = - b \\sin{\\left(\\theta_{1} + \\varphi \\right)} \\qquad k_{\\theta_2 y } = a \\sin{\\left(\\theta_{2} + \\varphi \\right)} \\qquad k_{x y } = \\cos{\\left(\\varphi \\right)} \\qquad  $"
      ],
      "text/plain": [
       "<IPython.core.display.Markdown object>"
      ]
     },
     "metadata": {},
     "output_type": "display_data"
    },
    {
     "data": {
      "text/markdown": [
       "### Matrizes de resolução acelerações (Não somos robô  🦇) 😈"
      ],
      "text/plain": [
       "<IPython.core.display.Markdown object>"
      ]
     },
     "metadata": {},
     "output_type": "display_data"
    },
    {
     "data": {
      "text/latex": [
       "$\\displaystyle \\left[\\begin{matrix}\\ell_{\\theta_{1}.\\varphi}\\\\\\ell_{\\theta_{1}.y}\\end{matrix}\\right]=\\frac{1}{\\dot{\\theta_1}}(\\left[\\begin{matrix}\\frac{d}{d \\theta_{1}} k_{\\theta_{1}.\\varphi} & \\frac{d}{d \\theta_{2}} k_{\\theta_{1}.\\varphi} & \\frac{d}{d x} k_{\\theta_{1}.\\varphi}\\\\\\frac{d}{d \\theta_{1}} k_{\\theta_{1}.y} & \\frac{d}{d \\theta_{2}} k_{\\theta_{1}.y} & \\frac{d}{d x} k_{\\theta_{1}.y}\\end{matrix}\\right]\\left[\\begin{matrix}\\dot{\\theta_1}\\\\\\dot{\\theta_2}\\\\\\dot{x}\\end{matrix}\\right]+\\left[\\begin{matrix}\\frac{d}{d \\varphi} k_{\\theta_{1}.\\varphi} & \\frac{d}{d y} k_{\\theta_{1}.\\varphi}\\\\\\frac{d}{d \\varphi} k_{\\theta_{1}.y} & \\frac{d}{d y} k_{\\theta_{1}.y}\\end{matrix}\\right]\\left[\\begin{matrix}\\dot{\\varphi}\\\\\\dot{y}\\end{matrix}\\right])$"
      ],
      "text/plain": [
       "<IPython.core.display.Math object>"
      ]
     },
     "metadata": {},
     "output_type": "display_data"
    },
    {
     "data": {
      "text/markdown": [
       "$ \\frac{d}{d \\theta_{1}} k_{\\theta_{1}.\\varphi}=\\frac{b \\sin{\\left(\\theta_{1} + \\varphi \\right)}}{y} \\qquad  \\frac{d}{d \\theta_{1}} k_{\\theta_{1}.y}=- b \\cos{\\left(\\theta_{1} + \\varphi \\right)} \\qquad  \\frac{d}{d \\theta_{2}} k_{\\theta_{1}.\\varphi}=0 \\qquad  \\frac{d}{d \\theta_{2}} k_{\\theta_{1}.y}=0 \\qquad  \\frac{d}{d x} k_{\\theta_{1}.\\varphi}=0 \\qquad  \\frac{d}{d x} k_{\\theta_{1}.y}=0 \\qquad  \\frac{d}{d \\varphi} k_{\\theta_{1}.\\varphi}=\\frac{b \\sin{\\left(\\theta_{1} + \\varphi \\right)}}{y} \\qquad  \\frac{d}{d \\varphi} k_{\\theta_{1}.y}=- b \\cos{\\left(\\theta_{1} + \\varphi \\right)} \\qquad  \\frac{d}{d y} k_{\\theta_{1}.\\varphi}=\\frac{b \\cos{\\left(\\theta_{1} + \\varphi \\right)}}{y^{2}} \\qquad  \\frac{d}{d y} k_{\\theta_{1}.y}=0 \\qquad  $"
      ],
      "text/plain": [
       "<IPython.core.display.Markdown object>"
      ]
     },
     "metadata": {},
     "output_type": "display_data"
    },
    {
     "data": {
      "text/latex": [
       "$\\displaystyle \\left[\\begin{matrix}\\ell_{\\theta_{2}.\\varphi}\\\\\\ell_{\\theta_{2}.y}\\end{matrix}\\right]=\\frac{1}{\\dot{\\theta_2}}(\\left[\\begin{matrix}\\frac{d}{d \\theta_{1}} k_{\\theta_{2}.\\varphi} & \\frac{d}{d \\theta_{2}} k_{\\theta_{2}.\\varphi} & \\frac{d}{d x} k_{\\theta_{2}.\\varphi}\\\\\\frac{d}{d \\theta_{1}} k_{\\theta_{2}.y} & \\frac{d}{d \\theta_{2}} k_{\\theta_{2}.y} & \\frac{d}{d x} k_{\\theta_{2}.y}\\end{matrix}\\right]\\left[\\begin{matrix}\\dot{\\theta_1}\\\\\\dot{\\theta_2}\\\\\\dot{x}\\end{matrix}\\right]+\\left[\\begin{matrix}\\frac{d}{d \\varphi} k_{\\theta_{2}.\\varphi} & \\frac{d}{d y} k_{\\theta_{2}.\\varphi}\\\\\\frac{d}{d \\varphi} k_{\\theta_{2}.y} & \\frac{d}{d y} k_{\\theta_{2}.y}\\end{matrix}\\right]\\left[\\begin{matrix}\\dot{\\varphi}\\\\\\dot{y}\\end{matrix}\\right])$"
      ],
      "text/plain": [
       "<IPython.core.display.Math object>"
      ]
     },
     "metadata": {},
     "output_type": "display_data"
    },
    {
     "data": {
      "text/markdown": [
       "$ \\frac{d}{d \\theta_{1}} k_{\\theta_{2}.\\varphi}=0 \\qquad  \\frac{d}{d \\theta_{1}} k_{\\theta_{2}.y}=0 \\qquad  \\frac{d}{d \\theta_{2}} k_{\\theta_{2}.\\varphi}=- \\frac{a \\sin{\\left(\\theta_{2} + \\varphi \\right)}}{y} \\qquad  \\frac{d}{d \\theta_{2}} k_{\\theta_{2}.y}=a \\cos{\\left(\\theta_{2} + \\varphi \\right)} \\qquad  \\frac{d}{d x} k_{\\theta_{2}.\\varphi}=0 \\qquad  \\frac{d}{d x} k_{\\theta_{2}.y}=0 \\qquad  \\frac{d}{d \\varphi} k_{\\theta_{2}.\\varphi}=- \\frac{a \\sin{\\left(\\theta_{2} + \\varphi \\right)}}{y} \\qquad  \\frac{d}{d \\varphi} k_{\\theta_{2}.y}=a \\cos{\\left(\\theta_{2} + \\varphi \\right)} \\qquad  \\frac{d}{d y} k_{\\theta_{2}.\\varphi}=- \\frac{a \\cos{\\left(\\theta_{2} + \\varphi \\right)}}{y^{2}} \\qquad  \\frac{d}{d y} k_{\\theta_{2}.y}=0 \\qquad  $"
      ],
      "text/plain": [
       "<IPython.core.display.Markdown object>"
      ]
     },
     "metadata": {},
     "output_type": "display_data"
    },
    {
     "data": {
      "text/latex": [
       "$\\displaystyle \\left[\\begin{matrix}\\ell_{x.\\varphi}\\\\\\ell_{x.y}\\end{matrix}\\right]=\\frac{1}{\\dot{x}}(\\left[\\begin{matrix}\\frac{d}{d \\theta_{1}} k_{x.\\varphi} & \\frac{d}{d \\theta_{2}} k_{x.\\varphi} & \\frac{d}{d x} k_{x.\\varphi}\\\\\\frac{d}{d \\theta_{1}} k_{x.y} & \\frac{d}{d \\theta_{2}} k_{x.y} & \\frac{d}{d x} k_{x.y}\\end{matrix}\\right]\\left[\\begin{matrix}\\dot{\\theta_1}\\\\\\dot{\\theta_2}\\\\\\dot{x}\\end{matrix}\\right]+\\left[\\begin{matrix}\\frac{d}{d \\varphi} k_{x.\\varphi} & \\frac{d}{d y} k_{x.\\varphi}\\\\\\frac{d}{d \\varphi} k_{x.y} & \\frac{d}{d y} k_{x.y}\\end{matrix}\\right]\\left[\\begin{matrix}\\dot{\\varphi}\\\\\\dot{y}\\end{matrix}\\right])$"
      ],
      "text/plain": [
       "<IPython.core.display.Math object>"
      ]
     },
     "metadata": {},
     "output_type": "display_data"
    },
    {
     "data": {
      "text/markdown": [
       "$ \\frac{d}{d \\theta_{1}} k_{x.\\varphi}=0 \\qquad  \\frac{d}{d \\theta_{1}} k_{x.y}=0 \\qquad  \\frac{d}{d \\theta_{2}} k_{x.\\varphi}=0 \\qquad  \\frac{d}{d \\theta_{2}} k_{x.y}=0 \\qquad  \\frac{d}{d x} k_{x.\\varphi}=0 \\qquad  \\frac{d}{d x} k_{x.y}=0 \\qquad  \\frac{d}{d \\varphi} k_{x.\\varphi}=- \\frac{\\cos{\\left(\\varphi \\right)}}{y} \\qquad  \\frac{d}{d \\varphi} k_{x.y}=- \\sin{\\left(\\varphi \\right)} \\qquad  \\frac{d}{d y} k_{x.\\varphi}=\\frac{\\sin{\\left(\\varphi \\right)}}{y^{2}} \\qquad  \\frac{d}{d y} k_{x.y}=0 \\qquad  $"
      ],
      "text/plain": [
       "<IPython.core.display.Markdown object>"
      ]
     },
     "metadata": {},
     "output_type": "display_data"
    },
    {
     "data": {
      "text/markdown": [
       "### Coeficientes da Aceleração"
      ],
      "text/plain": [
       "<IPython.core.display.Markdown object>"
      ]
     },
     "metadata": {},
     "output_type": "display_data"
    },
    {
     "data": {
      "text/markdown": [
       "$ \\ell_{\\theta_1 \\varphi} = \\frac{b \\sin{\\left(\\theta_{1} + \\varphi \\right)}}{y} + \\frac{\\dot{\\varphi} b \\sin{\\left(\\theta_{1} + \\varphi \\right)}}{\\dot{\\theta_1} y} + \\frac{\\dot{y} b \\cos{\\left(\\theta_{1} + \\varphi \\right)}}{\\dot{\\theta_1} y^{2}} \\qquad \\ell_{\\theta_2 \\varphi} = - \\frac{a \\sin{\\left(\\theta_{2} + \\varphi \\right)}}{y} - \\frac{\\dot{\\varphi} a \\sin{\\left(\\theta_{2} + \\varphi \\right)}}{\\dot{\\theta_2} y} - \\frac{\\dot{y} a \\cos{\\left(\\theta_{2} + \\varphi \\right)}}{\\dot{\\theta_2} y^{2}} \\qquad \\ell_{x \\varphi} = - \\frac{\\dot{\\varphi} \\cos{\\left(\\varphi \\right)}}{\\dot{x} y} + \\frac{\\dot{y} \\sin{\\left(\\varphi \\right)}}{\\dot{x} y^{2}} \\qquad \\ell_{\\theta_1 y} = - b \\cos{\\left(\\theta_{1} + \\varphi \\right)} - \\frac{\\dot{\\varphi} b \\cos{\\left(\\theta_{1} + \\varphi \\right)}}{\\dot{\\theta_1}} \\qquad \\ell_{\\theta_2 y} = a \\cos{\\left(\\theta_{2} + \\varphi \\right)} + \\frac{\\dot{\\varphi} a \\cos{\\left(\\theta_{2} + \\varphi \\right)}}{\\dot{\\theta_2}} \\qquad \\ell_{x y} = - \\frac{\\dot{\\varphi} \\sin{\\left(\\varphi \\right)}}{\\dot{x}} \\qquad  $"
      ],
      "text/plain": [
       "<IPython.core.display.Markdown object>"
      ]
     },
     "metadata": {},
     "output_type": "display_data"
    }
   ],
   "source": [
    "from LinkageMechanism import *\n",
    "\n",
    "f1 = a*cos(θ2) + y*cos(φ) - b*cos(θ1) - x\n",
    "f2 = a*sin(θ2) - y*sin(φ) - b*sin(θ1)\n",
    "\n",
    "coord = [ θ1, θ2, x, φ, y ]\n",
    "eq = [ f1, f2 ]\n",
    "\n",
    "dof = len(coord) - len(eq)\n",
    "\n",
    "MecSolve (coord , eq)\n",
    "\n",
    "F,J,K,L = MecSolve (coord , eq , ReturnMatrices)"
   ]
  },
  {
   "cell_type": "code",
   "execution_count": 5,
   "metadata": {},
   "outputs": [
    {
     "data": {
      "text/markdown": [
       "### Matrizes F e J"
      ],
      "text/plain": [
       "<IPython.core.display.Markdown object>"
      ]
     },
     "metadata": {},
     "output_type": "display_data"
    },
    {
     "data": {
      "text/markdown": [
       "$ F = \\begin{Bmatrix}- a \\sin{\\left(\\theta \\right)}\\\\ a \\cos{\\left(\\theta \\right)}\\\\ a \\cos{\\left(\\theta \\right)}\\\\ - a \\sin{\\left(\\theta \\right)}\\end{Bmatrix}\\qquad J = \\begin{bmatrix}- x \\sin{\\left(\\varphi \\right)} & \\cos{\\left(\\varphi \\right)} & 0 & 0\\\\ - x \\cos{\\left(\\varphi \\right)} & - \\sin{\\left(\\varphi \\right)} & 0 & 0\\\\ 0 & 0 & - a \\sin{\\left(\\delta \\right)} & 0\\\\ 0 & 0 & a \\cos{\\left(\\delta \\right)} & 1\\\\ \\end{bmatrix} $"
      ],
      "text/plain": [
       "<IPython.core.display.Markdown object>"
      ]
     },
     "metadata": {},
     "output_type": "display_data"
    },
    {
     "data": {
      "text/markdown": [
       "### Matrizes de resolução (Não somos robô  🦇) 😈"
      ],
      "text/plain": [
       "<IPython.core.display.Markdown object>"
      ]
     },
     "metadata": {},
     "output_type": "display_data"
    },
    {
     "data": {
      "text/latex": [
       "$\\displaystyle \\left[\\begin{matrix}k_{\\varphi}\\\\k_{x}\\end{matrix}\\right]=- \\frac{1}{x}\\left[\\begin{matrix}- \\sin{\\left(\\varphi \\right)} & - \\cos{\\left(\\varphi \\right)}\\\\x \\cos{\\left(\\varphi \\right)} & - x \\sin{\\left(\\varphi \\right)}\\end{matrix}\\right]\\left[\\begin{matrix}- a \\sin{\\left(\\theta \\right)}\\\\a \\cos{\\left(\\theta \\right)}\\end{matrix}\\right]$"
      ],
      "text/plain": [
       "<IPython.core.display.Math object>"
      ]
     },
     "metadata": {},
     "output_type": "display_data"
    },
    {
     "data": {
      "text/latex": [
       "$\\displaystyle \\left[\\begin{matrix}k_{\\delta}\\\\k_{y}\\end{matrix}\\right]=\\frac{1}{a \\sin{\\left(\\delta \\right)}}\\left[\\begin{matrix}1 & 0\\\\- a \\cos{\\left(\\delta \\right)} & - a \\sin{\\left(\\delta \\right)}\\end{matrix}\\right](\\left[\\begin{matrix}a \\cos{\\left(\\theta \\right)}\\\\- a \\sin{\\left(\\theta \\right)}\\end{matrix}\\right]+k_{\\varphi}\\left[\\begin{matrix}0\\\\0\\end{matrix}\\right]+k_{x}\\left[\\begin{matrix}0\\\\0\\end{matrix}\\right])$"
      ],
      "text/plain": [
       "<IPython.core.display.Math object>"
      ]
     },
     "metadata": {},
     "output_type": "display_data"
    },
    {
     "data": {
      "text/markdown": [
       "### Coeficientes de Velocidade"
      ],
      "text/plain": [
       "<IPython.core.display.Markdown object>"
      ]
     },
     "metadata": {},
     "output_type": "display_data"
    },
    {
     "data": {
      "text/markdown": [
       "$ k_{\\varphi} = \\frac{a \\cos{\\left(\\theta + \\varphi \\right)}}{x} \\qquad k_{x} = a \\sin{\\left(\\theta + \\varphi \\right)} \\qquad k_{\\delta} = \\frac{\\cos{\\left(\\theta \\right)}}{\\sin{\\left(\\delta \\right)}} \\qquad k_{y} = - \\frac{a \\cos{\\left(\\delta + \\theta \\right)}}{\\sin{\\left(\\delta \\right)}} \\qquad  $"
      ],
      "text/plain": [
       "<IPython.core.display.Markdown object>"
      ]
     },
     "metadata": {},
     "output_type": "display_data"
    },
    {
     "data": {
      "text/markdown": [
       "### Coeficientes da Aceleração"
      ],
      "text/plain": [
       "<IPython.core.display.Markdown object>"
      ]
     },
     "metadata": {},
     "output_type": "display_data"
    },
    {
     "data": {
      "text/markdown": [
       "$ \\ell_{\\varphi} = - \\frac{a \\left(k_{x} \\cos{\\left(\\theta + \\varphi \\right)} + x \\left(k_{\\varphi} + 1\\right) \\sin{\\left(\\theta + \\varphi \\right)}\\right)}{x^{2}} \\qquad \\ell_{x} = a \\left(k_{\\varphi} + 1\\right) \\cos{\\left(\\theta + \\varphi \\right)} \\qquad \\ell_{\\delta} = - \\frac{\\frac{k_{\\delta} \\cos{\\left(\\theta \\right)}}{\\tan{\\left(\\delta \\right)}} + \\sin{\\left(\\theta \\right)}}{\\sin{\\left(\\delta \\right)}} \\qquad \\ell_{y} = \\frac{a \\left(k_{\\delta} \\cos{\\left(\\theta \\right)} + \\sin{\\left(\\delta \\right)} \\sin{\\left(\\delta + \\theta \\right)}\\right)}{\\sin^{2}{\\left(\\delta \\right)}} \\qquad  $"
      ],
      "text/plain": [
       "<IPython.core.display.Markdown object>"
      ]
     },
     "metadata": {},
     "output_type": "display_data"
    }
   ],
   "source": [
    "from LinkageMechanism import *\n",
    "\n",
    "f1 = a*cos(θ) + x*cos(φ) - b\n",
    "f2 = a*sin(θ) - x*sin(φ)\n",
    "f3 = a*sin(θ) + a*cos(δ) - c\n",
    "f4 = a*cos(θ) + a*sin(δ) + y - b\n",
    "\n",
    "coord = [ θ, φ, x, δ, y ]\n",
    "eq = [ f1, f2, f3, f4 ]\n",
    "\n",
    "dof = len(coord) - len(eq)\n",
    "\n",
    "MecSolve (coord , eq)\n",
    "\n",
    "F,J,K,L = MecSolve (coord , eq , ReturnMatrices)"
   ]
  },
  {
   "cell_type": "code",
   "execution_count": 1,
   "metadata": {},
   "outputs": [
    {
     "data": {
      "text/markdown": [
       "### Matrizes F e J"
      ],
      "text/plain": [
       "<IPython.core.display.Markdown object>"
      ]
     },
     "metadata": {},
     "output_type": "display_data"
    },
    {
     "data": {
      "text/markdown": [
       "$ F = \\begin{bmatrix}-1 & 0\\\\ 0 & -1\\\\ \\end{bmatrix}\\qquad J = \\begin{bmatrix}- z \\sin{\\left(\\varphi \\right)} & \\cos{\\left(\\varphi \\right)}\\\\ z \\cos{\\left(\\varphi \\right)} & \\sin{\\left(\\varphi \\right)}\\\\ \\end{bmatrix}  $"
      ],
      "text/plain": [
       "<IPython.core.display.Markdown object>"
      ]
     },
     "metadata": {},
     "output_type": "display_data"
    },
    {
     "data": {
      "text/markdown": [
       "### Inversa de J"
      ],
      "text/plain": [
       "<IPython.core.display.Markdown object>"
      ]
     },
     "metadata": {},
     "output_type": "display_data"
    },
    {
     "data": {
      "text/latex": [
       "$\\displaystyle - \\frac{1}{z}\\left[\\begin{matrix}\\sin{\\left(\\varphi \\right)} & - \\cos{\\left(\\varphi \\right)}\\\\- z \\cos{\\left(\\varphi \\right)} & - z \\sin{\\left(\\varphi \\right)}\\end{matrix}\\right]$"
      ],
      "text/plain": [
       "<IPython.core.display.Math object>"
      ]
     },
     "metadata": {},
     "output_type": "display_data"
    },
    {
     "data": {
      "text/markdown": [
       "### Matrizes de resolução velocidades (Não somos robô  🦇) 😈"
      ],
      "text/plain": [
       "<IPython.core.display.Markdown object>"
      ]
     },
     "metadata": {},
     "output_type": "display_data"
    },
    {
     "data": {
      "text/latex": [
       "$\\displaystyle \\left[\\begin{matrix}k_{x.\\varphi}\\\\k_{x.z}\\end{matrix}\\right]=\\frac{1}{z}\\left[\\begin{matrix}\\sin{\\left(\\varphi \\right)} & - \\cos{\\left(\\varphi \\right)}\\\\- z \\cos{\\left(\\varphi \\right)} & - z \\sin{\\left(\\varphi \\right)}\\end{matrix}\\right]\\left[\\begin{matrix}-1\\\\0\\end{matrix}\\right]$"
      ],
      "text/plain": [
       "<IPython.core.display.Math object>"
      ]
     },
     "metadata": {},
     "output_type": "display_data"
    },
    {
     "data": {
      "text/latex": [
       "$\\displaystyle \\left[\\begin{matrix}k_{y.\\varphi}\\\\k_{y.z}\\end{matrix}\\right]=\\frac{1}{z}\\left[\\begin{matrix}\\sin{\\left(\\varphi \\right)} & - \\cos{\\left(\\varphi \\right)}\\\\- z \\cos{\\left(\\varphi \\right)} & - z \\sin{\\left(\\varphi \\right)}\\end{matrix}\\right]\\left[\\begin{matrix}0\\\\-1\\end{matrix}\\right]$"
      ],
      "text/plain": [
       "<IPython.core.display.Math object>"
      ]
     },
     "metadata": {},
     "output_type": "display_data"
    },
    {
     "data": {
      "text/markdown": [
       "### Coeficientes de Velocidade"
      ],
      "text/plain": [
       "<IPython.core.display.Markdown object>"
      ]
     },
     "metadata": {},
     "output_type": "display_data"
    },
    {
     "data": {
      "text/markdown": [
       "$ k_{x \\varphi } = - \\frac{\\sin{\\left(\\varphi \\right)}}{z} \\qquad k_{y \\varphi } = \\frac{\\cos{\\left(\\varphi \\right)}}{z} \\qquad k_{x z } = \\cos{\\left(\\varphi \\right)} \\qquad k_{y z } = \\sin{\\left(\\varphi \\right)} \\qquad  $"
      ],
      "text/plain": [
       "<IPython.core.display.Markdown object>"
      ]
     },
     "metadata": {},
     "output_type": "display_data"
    },
    {
     "data": {
      "text/markdown": [
       "### Matrizes de resolução acelerações (Não somos robô  🦇) 😈"
      ],
      "text/plain": [
       "<IPython.core.display.Markdown object>"
      ]
     },
     "metadata": {},
     "output_type": "display_data"
    },
    {
     "data": {
      "text/markdown": [
       "##### Matriz L"
      ],
      "text/plain": [
       "<IPython.core.display.Markdown object>"
      ]
     },
     "metadata": {},
     "output_type": "display_data"
    },
    {
     "data": {
      "text/latex": [
       "$\\displaystyle \\left[\\begin{matrix}\\ell_{x.\\varphi}\\\\\\ell_{x.z}\\end{matrix}\\right]=\\frac{1}{\\dot{x}}(\\left[\\begin{matrix}\\frac{d}{d x} k_{x.\\varphi} & \\frac{d}{d y} k_{x.\\varphi}\\\\\\frac{d}{d x} k_{x.z} & \\frac{d}{d y} k_{x.z}\\end{matrix}\\right]\\left[\\begin{matrix}\\dot{x}\\\\\\dot{y}\\end{matrix}\\right]+\\left[\\begin{matrix}\\frac{d}{d \\varphi} k_{x.\\varphi} & \\frac{d}{d z} k_{x.\\varphi}\\\\\\frac{d}{d \\varphi} k_{x.z} & \\frac{d}{d z} k_{x.z}\\end{matrix}\\right]\\left[\\begin{matrix}\\dot{\\varphi}\\\\\\dot{z}\\end{matrix}\\right])$"
      ],
      "text/plain": [
       "<IPython.core.display.Math object>"
      ]
     },
     "metadata": {},
     "output_type": "display_data"
    },
    {
     "data": {
      "text/markdown": [
       "##### Derivadas"
      ],
      "text/plain": [
       "<IPython.core.display.Markdown object>"
      ]
     },
     "metadata": {},
     "output_type": "display_data"
    },
    {
     "data": {
      "text/markdown": [
       "$ \\frac{d}{d x} k_{x.\\varphi}=0 \\qquad  \\frac{d}{d x} k_{x.z}=0 \\qquad  \\frac{d}{d y} k_{x.\\varphi}=0 \\qquad  \\frac{d}{d y} k_{x.z}=0 \\qquad  \\frac{d}{d \\varphi} k_{x.\\varphi}=- \\frac{\\cos{\\left(\\varphi \\right)}}{z} \\qquad  \\frac{d}{d \\varphi} k_{x.z}=- \\sin{\\left(\\varphi \\right)} \\qquad  \\frac{d}{d z} k_{x.\\varphi}=\\frac{\\sin{\\left(\\varphi \\right)}}{z^{2}} \\qquad  \\frac{d}{d z} k_{x.z}=0 \\qquad  $"
      ],
      "text/plain": [
       "<IPython.core.display.Markdown object>"
      ]
     },
     "metadata": {},
     "output_type": "display_data"
    },
    {
     "data": {
      "text/markdown": [
       "##### Matriz L"
      ],
      "text/plain": [
       "<IPython.core.display.Markdown object>"
      ]
     },
     "metadata": {},
     "output_type": "display_data"
    },
    {
     "data": {
      "text/latex": [
       "$\\displaystyle \\left[\\begin{matrix}\\ell_{y.\\varphi}\\\\\\ell_{y.z}\\end{matrix}\\right]=\\frac{1}{\\dot{y}}(\\left[\\begin{matrix}\\frac{d}{d x} k_{y.\\varphi} & \\frac{d}{d y} k_{y.\\varphi}\\\\\\frac{d}{d x} k_{y.z} & \\frac{d}{d y} k_{y.z}\\end{matrix}\\right]\\left[\\begin{matrix}\\dot{x}\\\\\\dot{y}\\end{matrix}\\right]+\\left[\\begin{matrix}\\frac{d}{d \\varphi} k_{y.\\varphi} & \\frac{d}{d z} k_{y.\\varphi}\\\\\\frac{d}{d \\varphi} k_{y.z} & \\frac{d}{d z} k_{y.z}\\end{matrix}\\right]\\left[\\begin{matrix}\\dot{\\varphi}\\\\\\dot{z}\\end{matrix}\\right])$"
      ],
      "text/plain": [
       "<IPython.core.display.Math object>"
      ]
     },
     "metadata": {},
     "output_type": "display_data"
    },
    {
     "data": {
      "text/markdown": [
       "##### Derivadas"
      ],
      "text/plain": [
       "<IPython.core.display.Markdown object>"
      ]
     },
     "metadata": {},
     "output_type": "display_data"
    },
    {
     "data": {
      "text/markdown": [
       "$ \\frac{d}{d x} k_{y.\\varphi}=0 \\qquad  \\frac{d}{d x} k_{y.z}=0 \\qquad  \\frac{d}{d y} k_{y.\\varphi}=0 \\qquad  \\frac{d}{d y} k_{y.z}=0 \\qquad  \\frac{d}{d \\varphi} k_{y.\\varphi}=- \\frac{\\sin{\\left(\\varphi \\right)}}{z} \\qquad  \\frac{d}{d \\varphi} k_{y.z}=\\cos{\\left(\\varphi \\right)} \\qquad  \\frac{d}{d z} k_{y.\\varphi}=- \\frac{\\cos{\\left(\\varphi \\right)}}{z^{2}} \\qquad  \\frac{d}{d z} k_{y.z}=0 \\qquad  $"
      ],
      "text/plain": [
       "<IPython.core.display.Markdown object>"
      ]
     },
     "metadata": {},
     "output_type": "display_data"
    },
    {
     "data": {
      "text/markdown": [
       "### Coeficientes da Aceleração"
      ],
      "text/plain": [
       "<IPython.core.display.Markdown object>"
      ]
     },
     "metadata": {},
     "output_type": "display_data"
    },
    {
     "data": {
      "text/markdown": [
       "$ \\ell_{x \\varphi} = - \\frac{\\dot{\\varphi} \\cos{\\left(\\varphi \\right)}}{\\dot{x} z} + \\frac{\\dot{z} \\sin{\\left(\\varphi \\right)}}{\\dot{x} z^{2}} \\qquad \\ell_{y \\varphi} = - \\frac{\\dot{\\varphi} \\sin{\\left(\\varphi \\right)}}{\\dot{y} z} - \\frac{\\dot{z} \\cos{\\left(\\varphi \\right)}}{\\dot{y} z^{2}} \\qquad \\ell_{x z} = - \\frac{\\dot{\\varphi} \\sin{\\left(\\varphi \\right)}}{\\dot{x}} \\qquad \\ell_{y z} = \\frac{\\dot{\\varphi} \\cos{\\left(\\varphi \\right)}}{\\dot{y}} \\qquad  $"
      ],
      "text/plain": [
       "<IPython.core.display.Markdown object>"
      ]
     },
     "metadata": {},
     "output_type": "display_data"
    }
   ],
   "source": [
    "from LinkageMechanism import *\n",
    "\n",
    "f1 = z*cos(φ) - x\n",
    "f2 = z*sin(φ) - y\n",
    "\n",
    "coord = [x, y, φ, z]\n",
    "eq = [ f1, f2 ]\n",
    "\n",
    "dof = len(coord) - len(eq)\n",
    "\n",
    "MecSolve (coord , eq)\n",
    "\n",
    "F,J,K,L = MecSolve (coord , eq, ReturnMatrices)"
   ]
  },
  {
   "cell_type": "code",
   "execution_count": 10,
   "metadata": {},
   "outputs": [
    {
     "data": {
      "text/plain": [
       "False"
      ]
     },
     "execution_count": 10,
     "metadata": {},
     "output_type": "execute_result"
    }
   ],
   "source": [
    "func1 = cos(φ)\n",
    "func2 = cos(θ-φ)\n",
    "\n",
    "func3 = cos(θ)\n",
    "func4 = cos(φ)\n",
    "\n",
    "func1/func2 == 1/func3"
   ]
  },
  {
   "cell_type": "code",
   "execution_count": null,
   "metadata": {},
   "outputs": [],
   "source": [
    "[ θ, φ, x, δ, y ]"
   ]
  }
 ],
 "metadata": {
  "kernelspec": {
   "display_name": "Python 3",
   "language": "python",
   "name": "python3"
  },
  "language_info": {
   "codemirror_mode": {
    "name": "ipython",
    "version": 3
   },
   "file_extension": ".py",
   "mimetype": "text/x-python",
   "name": "python",
   "nbconvert_exporter": "python",
   "pygments_lexer": "ipython3",
   "version": "3.7.7"
  }
 },
 "nbformat": 4,
 "nbformat_minor": 4
}
