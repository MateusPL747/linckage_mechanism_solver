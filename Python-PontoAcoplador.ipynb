{
 "cells": [
  {
   "cell_type": "code",
   "execution_count": 3,
   "metadata": {},
   "outputs": [
    {
     "data": {
      "text/markdown": [
       "### Deslocamentos"
      ],
      "text/plain": [
       "<IPython.core.display.Markdown object>"
      ]
     },
     "metadata": {},
     "output_type": "display_data"
    },
    {
     "data": {
      "text/markdown": [
       "$ \\qquad x_p $ = $ c\\sin{\\left(\\beta\\right)}-\\frac{d\\cos{\\left(\\alpha\\right)}}{2} $"
      ],
      "text/plain": [
       "<IPython.core.display.Markdown object>"
      ]
     },
     "metadata": {},
     "output_type": "display_data"
    },
    {
     "data": {
      "text/markdown": [
       "$ \\qquad y_p $ = $ c\\cos{\\left(\\beta\\right)}+\\frac{d\\sin{\\left(\\alpha\\right)}}{2} $"
      ],
      "text/plain": [
       "<IPython.core.display.Markdown object>"
      ]
     },
     "metadata": {},
     "output_type": "display_data"
    },
    {
     "data": {
      "text/markdown": [
       "### Velocidades"
      ],
      "text/plain": [
       "<IPython.core.display.Markdown object>"
      ]
     },
     "metadata": {},
     "output_type": "display_data"
    },
    {
     "data": {
      "text/markdown": [
       "$ \\qquad \\dot x_p $ = $ \\frac{\\dot{\\alpha}d\\sin{\\left(\\alpha\\right)}}{2}+\\dot{\\beta}c\\cos{\\left(\\beta\\right)} $"
      ],
      "text/plain": [
       "<IPython.core.display.Markdown object>"
      ]
     },
     "metadata": {},
     "output_type": "display_data"
    },
    {
     "data": {
      "text/markdown": [
       "$ \\qquad \\dot y_p $ = $ \\frac{\\dot{\\alpha}d\\cos{\\left(\\alpha\\right)}}{2}-\\dot{\\beta}c\\sin{\\left(\\beta\\right)} $"
      ],
      "text/plain": [
       "<IPython.core.display.Markdown object>"
      ]
     },
     "metadata": {},
     "output_type": "display_data"
    },
    {
     "data": {
      "text/markdown": [
       "### Acelerações"
      ],
      "text/plain": [
       "<IPython.core.display.Markdown object>"
      ]
     },
     "metadata": {},
     "output_type": "display_data"
    },
    {
     "data": {
      "text/markdown": [
       "$ \\qquad \\ddot x_p $ = $ -c\\left(-\\ddot{\\beta}\\cos{\\left(\\beta\\right)}+\\dot{\\beta}^{2}\\sin{\\left(\\beta\\right)}\\right)-\\frac{d\\left(-\\ddot{\\alpha}\\sin{\\left(\\alpha\\right)}-\\dot{\\alpha}^{2}\\cos{\\left(\\alpha\\right)}\\right)}{2} $"
      ],
      "text/plain": [
       "<IPython.core.display.Markdown object>"
      ]
     },
     "metadata": {},
     "output_type": "display_data"
    },
    {
     "data": {
      "text/markdown": [
       "$ \\qquad \\ddot y_p $ = $ -c\\left(\\ddot{\\beta}\\sin{\\left(\\beta\\right)}+\\dot{\\beta}^{2}\\cos{\\left(\\beta\\right)}\\right)-\\frac{d\\left(-\\ddot{\\alpha}\\cos{\\left(\\alpha\\right)}+\\dot{\\alpha}^{2}\\sin{\\left(\\alpha\\right)}\\right)}{2} $"
      ],
      "text/plain": [
       "<IPython.core.display.Markdown object>"
      ]
     },
     "metadata": {},
     "output_type": "display_data"
    }
   ],
   "source": [
    "from CouplerPoint import *\n",
    "\n",
    "P.u = d/2\n",
    "P.v = 0\n",
    "P.sᵢ = pi - α\n",
    "P.xₒ = c*sin(β)\n",
    "P.yₒ = c*cos(β)\n",
    "\n",
    "P.CouplerSolve()"
   ]
  },
  {
   "cell_type": "code",
   "execution_count": null,
   "metadata": {},
   "outputs": [],
   "source": []
  }
 ],
 "metadata": {
  "kernelspec": {
   "display_name": "Python 3",
   "language": "python",
   "name": "python3"
  },
  "language_info": {
   "codemirror_mode": {
    "name": "ipython",
    "version": 3
   },
   "file_extension": ".py",
   "mimetype": "text/x-python",
   "name": "python",
   "nbconvert_exporter": "python",
   "pygments_lexer": "ipython3",
   "version": "3.7.7"
  }
 },
 "nbformat": 4,
 "nbformat_minor": 4
}
