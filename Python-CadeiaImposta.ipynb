{
 "cells": [
  {
   "cell_type": "code",
   "execution_count": null,
   "metadata": {},
   "outputs": [],
   "source": [
    "#   Aqui se importa o arquivo LinkageMechanism modificado boladão\n",
    "import requests\n",
    "\n",
    "url = \"https://raw.githubusercontent.com/MateusPL747/linckage_mechanism_solver/main/LinkageMechanism.py\"\n",
    "response = requests.get(url)\n",
    "\n",
    "with open(\"LinkageMechanism.py\", \"w\") as f:\n",
    "    f.write(response.text)\n",
    "\n",
    "from LinkageMechanism import *"
   ]
  },
  {
   "cell_type": "code",
   "execution_count": 2,
   "metadata": {},
   "outputs": [
    {
     "data": {
      "text/markdown": [
       "### Matrizes F e J"
      ],
      "text/plain": [
       "<IPython.core.display.Markdown object>"
      ]
     },
     "metadata": {},
     "output_type": "display_data"
    },
    {
     "data": {
      "text/markdown": [
       "$ F = \\begin{Bmatrix}- a \\sin{\\left(\\theta \\right)}\\\\ a \\cos{\\left(\\theta \\right)}\\end{Bmatrix}\\qquad J = \\begin{bmatrix}- b \\sin{\\left(\\varphi \\right)} & -1\\\\ - b \\cos{\\left(\\varphi \\right)} & 0\\\\ \\end{bmatrix} $"
      ],
      "text/plain": [
       "<IPython.core.display.Markdown object>"
      ]
     },
     "metadata": {},
     "output_type": "display_data"
    },
    {
     "data": {
      "text/markdown": [
       "### Inversa de J"
      ],
      "text/plain": [
       "<IPython.core.display.Markdown object>"
      ]
     },
     "metadata": {},
     "output_type": "display_data"
    },
    {
     "data": {
      "text/latex": [
       "$\\displaystyle - \\frac{1}{b \\cos{\\left(\\varphi \\right)}}\\left[\\begin{matrix}0 & 1\\\\b \\cos{\\left(\\varphi \\right)} & - b \\sin{\\left(\\varphi \\right)}\\end{matrix}\\right]$"
      ],
      "text/plain": [
       "<IPython.core.display.Math object>"
      ]
     },
     "metadata": {},
     "output_type": "display_data"
    },
    {
     "data": {
      "text/markdown": [
       "### Matrizes de resolução velocidades (Não somos robô  🦇) 😈"
      ],
      "text/plain": [
       "<IPython.core.display.Markdown object>"
      ]
     },
     "metadata": {},
     "output_type": "display_data"
    },
    {
     "data": {
      "text/latex": [
       "$\\displaystyle \\left[\\begin{matrix}k_{\\varphi}\\\\k_{x}\\end{matrix}\\right]=\\frac{1}{b \\cos{\\left(\\varphi \\right)}}\\left[\\begin{matrix}0 & 1\\\\b \\cos{\\left(\\varphi \\right)} & - b \\sin{\\left(\\varphi \\right)}\\end{matrix}\\right]\\left[\\begin{matrix}- a \\sin{\\left(\\theta \\right)}\\\\a \\cos{\\left(\\theta \\right)}\\end{matrix}\\right]$"
      ],
      "text/plain": [
       "<IPython.core.display.Math object>"
      ]
     },
     "metadata": {},
     "output_type": "display_data"
    },
    {
     "data": {
      "text/markdown": [
       "### Coeficientes de Velocidade"
      ],
      "text/plain": [
       "<IPython.core.display.Markdown object>"
      ]
     },
     "metadata": {},
     "output_type": "display_data"
    },
    {
     "data": {
      "text/markdown": [
       "$ k_{\\varphi} = \\frac{a \\cos{\\left(\\theta \\right)}}{b \\cos{\\left(\\varphi \\right)}} \\qquad k_{x} = - \\frac{a \\sin{\\left(\\theta + \\varphi \\right)}}{\\cos{\\left(\\varphi \\right)}} \\qquad  $"
      ],
      "text/plain": [
       "<IPython.core.display.Markdown object>"
      ]
     },
     "metadata": {},
     "output_type": "display_data"
    },
    {
     "data": {
      "text/markdown": [
       "### Coeficientes da Aceleração"
      ],
      "text/plain": [
       "<IPython.core.display.Markdown object>"
      ]
     },
     "metadata": {},
     "output_type": "display_data"
    },
    {
     "data": {
      "text/markdown": [
       "$ \\ell_{\\varphi} = \\frac{a \\left(k_{\\varphi} \\cos{\\left(\\theta \\right)} \\tan{\\left(\\varphi \\right)} - \\sin{\\left(\\theta \\right)}\\right)}{b \\cos{\\left(\\varphi \\right)}} \\qquad \\ell_{x} = - \\frac{a \\left(k_{\\varphi} \\cos{\\left(\\theta \\right)} + \\cos{\\left(\\varphi \\right)} \\cos{\\left(\\theta + \\varphi \\right)}\\right)}{\\cos^{2}{\\left(\\varphi \\right)}} \\qquad  $"
      ],
      "text/plain": [
       "<IPython.core.display.Markdown object>"
      ]
     },
     "metadata": {},
     "output_type": "display_data"
    }
   ],
   "source": [
    "f1 = a*cos(θ) + b*cos(φ) - x\n",
    "f2 = a*sin(θ) - b*sin(φ)\n",
    "\n",
    "coord = [θ, φ, x]\n",
    "eq = [f1, f2]\n",
    "\n",
    "MecSolve (coord, eq)\n",
    "\n",
    "F,J,K,L = MecSolve (coord, eq, ReturnMatrices)"
   ]
  },
  {
   "cell_type": "code",
   "execution_count": 4,
   "metadata": {},
   "outputs": [
    {
     "data": {
      "text/latex": [
       "$\\displaystyle betha_{a}$"
      ],
      "text/plain": [
       "bethaₐ"
      ]
     },
     "execution_count": 4,
     "metadata": {},
     "output_type": "execute_result"
    }
   ],
   "source": [
    "β, h, β_b, β_a, 𝜃 = symbols('betha h betha_b betha_a, theta')\n",
    "β_a"
   ]
  },
  {
   "cell_type": "code",
   "execution_count": 1,
   "metadata": {},
   "outputs": [
    {
     "data": {
      "text/markdown": [
       "### Matrizes F e J"
      ],
      "text/plain": [
       "<IPython.core.display.Markdown object>"
      ]
     },
     "metadata": {},
     "output_type": "display_data"
    },
    {
     "data": {
      "text/markdown": [
       "$ F = \\begin{Bmatrix}\\cos{\\left(\\varphi \\right)}\\\\ - \\sin{\\left(\\varphi \\right)}\\end{Bmatrix}\\qquad J = \\begin{bmatrix}- a \\sin{\\left(\\theta \\right)} & - x \\sin{\\left(\\varphi \\right)}\\\\ a \\cos{\\left(\\theta \\right)} & - x \\cos{\\left(\\varphi \\right)}\\\\ \\end{bmatrix} $"
      ],
      "text/plain": [
       "<IPython.core.display.Markdown object>"
      ]
     },
     "metadata": {},
     "output_type": "display_data"
    },
    {
     "data": {
      "text/markdown": [
       "### Inversa de J"
      ],
      "text/plain": [
       "<IPython.core.display.Markdown object>"
      ]
     },
     "metadata": {},
     "output_type": "display_data"
    },
    {
     "data": {
      "text/latex": [
       "$\\displaystyle - \\frac{1}{a x \\sin{\\left(\\theta + \\varphi \\right)}}\\left[\\begin{matrix}- x \\cos{\\left(\\varphi \\right)} & x \\sin{\\left(\\varphi \\right)}\\\\- a \\cos{\\left(\\theta \\right)} & - a \\sin{\\left(\\theta \\right)}\\end{matrix}\\right]$"
      ],
      "text/plain": [
       "<IPython.core.display.Math object>"
      ]
     },
     "metadata": {},
     "output_type": "display_data"
    },
    {
     "data": {
      "text/markdown": [
       "### Matrizes de resolução (Balanga meu taco @ZéVampiro 🦇) 😈🍆"
      ],
      "text/plain": [
       "<IPython.core.display.Markdown object>"
      ]
     },
     "metadata": {},
     "output_type": "display_data"
    },
    {
     "data": {
      "text/latex": [
       "$\\displaystyle \\left[\\begin{matrix}k_{\\theta}\\\\k_{\\varphi}\\end{matrix}\\right]=\\frac{1}{a x \\sin{\\left(\\theta + \\varphi \\right)}}\\left[\\begin{matrix}- x \\cos{\\left(\\varphi \\right)} & x \\sin{\\left(\\varphi \\right)}\\\\- a \\cos{\\left(\\theta \\right)} & - a \\sin{\\left(\\theta \\right)}\\end{matrix}\\right]\\left[\\begin{matrix}\\cos{\\left(\\varphi \\right)}\\\\- \\sin{\\left(\\varphi \\right)}\\end{matrix}\\right]$"
      ],
      "text/plain": [
       "<IPython.core.display.Math object>"
      ]
     },
     "metadata": {},
     "output_type": "display_data"
    },
    {
     "data": {
      "text/markdown": [
       "### Coeficientes de Velocidade"
      ],
      "text/plain": [
       "<IPython.core.display.Markdown object>"
      ]
     },
     "metadata": {},
     "output_type": "display_data"
    },
    {
     "data": {
      "text/markdown": [
       "$ k_{\\theta} = \\frac{1}{a \\sin{\\left(\\theta + \\varphi \\right)}} \\qquad k_{\\varphi} = \\frac{1}{x \\tan{\\left(\\theta + \\varphi \\right)}} \\qquad  $"
      ],
      "text/plain": [
       "<IPython.core.display.Markdown object>"
      ]
     },
     "metadata": {},
     "output_type": "display_data"
    },
    {
     "data": {
      "text/markdown": [
       "### Coeficientes da Aceleração"
      ],
      "text/plain": [
       "<IPython.core.display.Markdown object>"
      ]
     },
     "metadata": {},
     "output_type": "display_data"
    },
    {
     "data": {
      "text/markdown": [
       "$ \\ell_{\\theta} = - \\frac{\\left(k_{\\theta} + k_{\\varphi}\\right) \\cos{\\left(\\theta + \\varphi \\right)}}{a \\sin^{2}{\\left(\\theta + \\varphi \\right)}} \\qquad \\ell_{\\varphi} = - \\frac{x \\left(k_{\\theta} + k_{\\varphi}\\right) \\left(\\tan^{2}{\\left(\\theta + \\varphi \\right)} + 1\\right) + \\tan{\\left(\\theta + \\varphi \\right)}}{x^{2} \\tan^{2}{\\left(\\theta + \\varphi \\right)}} \\qquad  $"
      ],
      "text/plain": [
       "<IPython.core.display.Markdown object>"
      ]
     },
     "metadata": {},
     "output_type": "display_data"
    }
   ],
   "source": [
    "from LinkageMechanism import *\n",
    "\n",
    "f1 = a*cos(θ) + x*cos(φ) - c\n",
    "f2 = a*sin(θ) - x*sin(φ) \n",
    "\n",
    "MecSolve ([x, θ , φ] , [f1,f2])\n",
    "\n",
    "F,J,K,L = MecSolve ([x, θ , φ] , [f1,f2] , ReturnMatrices)"
   ]
  },
  {
   "cell_type": "code",
   "execution_count": 1,
   "metadata": {},
   "outputs": [
    {
     "data": {
      "text/markdown": [
       "### Matrizes F e J"
      ],
      "text/plain": [
       "<IPython.core.display.Markdown object>"
      ]
     },
     "metadata": {},
     "output_type": "display_data"
    },
    {
     "data": {
      "text/markdown": [
       "$ F = \\begin{Bmatrix}b \\sin{\\left(\\theta \\right)}\\\\ - b \\cos{\\left(\\theta \\right)}\\\\ 0\\\\ 0\\end{Bmatrix}\\qquad J = \\begin{bmatrix}- x \\sin{\\left(\\alpha \\right)} & \\cos{\\left(\\alpha \\right)} & 0 & 0\\\\ x \\cos{\\left(\\alpha \\right)} & \\sin{\\left(\\alpha \\right)} & 0 & 0\\\\ - y \\sin{\\left(\\alpha \\right)} & 0 & - a \\sin{\\left(\\varphi \\right)} & \\cos{\\left(\\alpha \\right)}\\\\ y \\cos{\\left(\\alpha \\right)} & 0 & - a \\cos{\\left(\\varphi \\right)} & \\sin{\\left(\\alpha \\right)}\\\\ \\end{bmatrix} $"
      ],
      "text/plain": [
       "<IPython.core.display.Markdown object>"
      ]
     },
     "metadata": {},
     "output_type": "display_data"
    },
    {
     "data": {
      "text/markdown": [
       "### Matrizes de resolução velocidades (Não somos robô  🦇) 😈"
      ],
      "text/plain": [
       "<IPython.core.display.Markdown object>"
      ]
     },
     "metadata": {},
     "output_type": "display_data"
    },
    {
     "data": {
      "text/latex": [
       "$\\displaystyle \\left[\\begin{matrix}k_{\\alpha}\\\\k_{x}\\end{matrix}\\right]=\\frac{1}{x}\\left[\\begin{matrix}\\sin{\\left(\\alpha \\right)} & - \\cos{\\left(\\alpha \\right)}\\\\- x \\cos{\\left(\\alpha \\right)} & - x \\sin{\\left(\\alpha \\right)}\\end{matrix}\\right]\\left[\\begin{matrix}b \\sin{\\left(\\theta \\right)}\\\\- b \\cos{\\left(\\theta \\right)}\\end{matrix}\\right]$"
      ],
      "text/plain": [
       "<IPython.core.display.Math object>"
      ]
     },
     "metadata": {},
     "output_type": "display_data"
    },
    {
     "data": {
      "text/latex": [
       "$\\displaystyle \\left[\\begin{matrix}k_{\\varphi}\\\\k_{y}\\end{matrix}\\right]=- \\frac{1}{a \\cos{\\left(\\alpha + \\varphi \\right)}}\\left[\\begin{matrix}\\sin{\\left(\\alpha \\right)} & - \\cos{\\left(\\alpha \\right)}\\\\a \\cos{\\left(\\varphi \\right)} & - a \\sin{\\left(\\varphi \\right)}\\end{matrix}\\right](\\left[\\begin{matrix}0\\\\0\\end{matrix}\\right]+k_{\\alpha}\\left[\\begin{matrix}- y \\sin{\\left(\\alpha \\right)}\\\\y \\cos{\\left(\\alpha \\right)}\\end{matrix}\\right]+k_{x}\\left[\\begin{matrix}0\\\\0\\end{matrix}\\right])$"
      ],
      "text/plain": [
       "<IPython.core.display.Math object>"
      ]
     },
     "metadata": {},
     "output_type": "display_data"
    },
    {
     "data": {
      "text/markdown": [
       "### Coeficientes de Velocidade"
      ],
      "text/plain": [
       "<IPython.core.display.Markdown object>"
      ]
     },
     "metadata": {},
     "output_type": "display_data"
    },
    {
     "data": {
      "text/markdown": [
       "$ k_{\\alpha} = \\frac{b \\cos{\\left(\\alpha - \\theta \\right)}}{x} \\qquad k_{x} = b \\sin{\\left(\\alpha - \\theta \\right)} \\qquad k_{\\varphi} = \\frac{b y \\cos{\\left(\\alpha - \\theta \\right)}}{a x \\cos{\\left(\\alpha + \\varphi \\right)}} \\qquad k_{y} = \\frac{b y \\cos{\\left(\\alpha - \\theta \\right)} \\tan{\\left(\\alpha + \\varphi \\right)}}{x} \\qquad  $"
      ],
      "text/plain": [
       "<IPython.core.display.Markdown object>"
      ]
     },
     "metadata": {},
     "output_type": "display_data"
    },
    {
     "data": {
      "text/markdown": [
       "### Coeficientes da Aceleração"
      ],
      "text/plain": [
       "<IPython.core.display.Markdown object>"
      ]
     },
     "metadata": {},
     "output_type": "display_data"
    },
    {
     "data": {
      "text/markdown": [
       "$ \\ell_{\\alpha} = \\frac{b \\left(- k_{x} \\cos{\\left(\\alpha - \\theta \\right)} + x \\left(1 - k_{\\alpha}\\right) \\sin{\\left(\\alpha - \\theta \\right)}\\right)}{x^{2}} \\qquad \\ell_{x} = b \\left(k_{\\alpha} - 1\\right) \\cos{\\left(\\alpha - \\theta \\right)} \\qquad \\ell_{\\varphi} = \\frac{b \\left(- k_{x} y \\cos{\\left(\\alpha - \\theta \\right)} \\cos{\\left(\\alpha + \\varphi \\right)} + k_{\\alpha} x y \\sin{\\left(\\theta + \\varphi \\right)} + k_{\\varphi} x y \\sin{\\left(\\alpha + \\varphi \\right)} \\cos{\\left(\\alpha - \\theta \\right)} + x \\left(k_{y} \\cos{\\left(\\alpha - \\theta \\right)} + y \\sin{\\left(\\alpha - \\theta \\right)}\\right) \\cos{\\left(\\alpha + \\varphi \\right)}\\right)}{a x^{2} \\cos^{2}{\\left(\\alpha + \\varphi \\right)}} \\qquad \\ell_{y} = \\frac{b \\left(- k_{x} y \\cos{\\left(\\alpha - \\theta \\right)} \\tan{\\left(\\alpha + \\varphi \\right)} + x \\left(k_{y} \\cos{\\left(\\alpha - \\theta \\right)} \\tan{\\left(\\alpha + \\varphi \\right)} + k_{\\alpha} y \\left(\\left(\\tan^{2}{\\left(\\alpha + \\varphi \\right)} + 1\\right) \\cos{\\left(\\alpha - \\theta \\right)} - \\sin{\\left(\\alpha - \\theta \\right)} \\tan{\\left(\\alpha + \\varphi \\right)}\\right) + k_{\\varphi} y \\left(\\tan^{2}{\\left(\\alpha + \\varphi \\right)} + 1\\right) \\cos{\\left(\\alpha - \\theta \\right)} + y \\sin{\\left(\\alpha - \\theta \\right)} \\tan{\\left(\\alpha + \\varphi \\right)}\\right)\\right)}{x^{2}} \\qquad  $"
      ],
      "text/plain": [
       "<IPython.core.display.Markdown object>"
      ]
     },
     "metadata": {},
     "output_type": "display_data"
    }
   ],
   "source": [
    "from LinkageMechanism import *\n",
    "\n",
    "f1 = x*cos(α) - a*cos(θ) - c\n",
    "f2 = x*sin(α) - a*sin(θ)\n",
    "f3 = y*cos(α) + a*cos(φ) - c\n",
    "f4 = y*sin(α) - a*sin(φ)\n",
    "\n",
    "coord = [θ, α, x, φ, y]\n",
    "eq = [f1, f2, f3, f4]\n",
    "\n",
    "MecSolve (coord, eq)\n",
    "\n",
    "F,J,K,L = MecSolve (coord, eq, ReturnMatrices)"
   ]
  },
  {
   "cell_type": "code",
   "execution_count": 1,
   "metadata": {},
   "outputs": [
    {
     "data": {
      "text/markdown": [
       "### Matrizes F e J"
      ],
      "text/plain": [
       "<IPython.core.display.Markdown object>"
      ]
     },
     "metadata": {},
     "output_type": "display_data"
    },
    {
     "data": {
      "text/markdown": [
       "$ F = \\begin{Bmatrix}-1\\\\ 0\\end{Bmatrix}\\qquad J = \\begin{bmatrix}- a \\sin{\\left(\\varphi \\right)} & r \\sin{\\left(\\theta \\right)}\\\\ a \\cos{\\left(\\varphi \\right)} & - r \\cos{\\left(\\theta \\right)}\\\\ \\end{bmatrix} $"
      ],
      "text/plain": [
       "<IPython.core.display.Markdown object>"
      ]
     },
     "metadata": {},
     "output_type": "display_data"
    },
    {
     "data": {
      "text/markdown": [
       "### Inversa de J"
      ],
      "text/plain": [
       "<IPython.core.display.Markdown object>"
      ]
     },
     "metadata": {},
     "output_type": "display_data"
    },
    {
     "data": {
      "text/latex": [
       "$\\displaystyle - \\frac{1}{a r \\sin{\\left(\\theta - \\varphi \\right)}}\\left[\\begin{matrix}- r \\cos{\\left(\\theta \\right)} & - r \\sin{\\left(\\theta \\right)}\\\\- a \\cos{\\left(\\varphi \\right)} & - a \\sin{\\left(\\varphi \\right)}\\end{matrix}\\right]$"
      ],
      "text/plain": [
       "<IPython.core.display.Math object>"
      ]
     },
     "metadata": {},
     "output_type": "display_data"
    },
    {
     "data": {
      "text/markdown": [
       "### Matrizes de resolução velocidades (Não somos robô  🦇) 😈"
      ],
      "text/plain": [
       "<IPython.core.display.Markdown object>"
      ]
     },
     "metadata": {},
     "output_type": "display_data"
    },
    {
     "data": {
      "text/latex": [
       "$\\displaystyle \\left[\\begin{matrix}k_{\\varphi}\\\\k_{\\theta}\\end{matrix}\\right]=\\frac{1}{a r \\sin{\\left(\\theta - \\varphi \\right)}}\\left[\\begin{matrix}- r \\cos{\\left(\\theta \\right)} & - r \\sin{\\left(\\theta \\right)}\\\\- a \\cos{\\left(\\varphi \\right)} & - a \\sin{\\left(\\varphi \\right)}\\end{matrix}\\right]\\left[\\begin{matrix}-1\\\\0\\end{matrix}\\right]$"
      ],
      "text/plain": [
       "<IPython.core.display.Math object>"
      ]
     },
     "metadata": {},
     "output_type": "display_data"
    },
    {
     "data": {
      "text/markdown": [
       "### Coeficientes de Velocidade"
      ],
      "text/plain": [
       "<IPython.core.display.Markdown object>"
      ]
     },
     "metadata": {},
     "output_type": "display_data"
    },
    {
     "data": {
      "text/markdown": [
       "$ k_{\\varphi} = \\frac{\\cos{\\left(\\theta \\right)}}{a \\sin{\\left(\\theta - \\varphi \\right)}} \\qquad k_{\\theta} = \\frac{\\cos{\\left(\\varphi \\right)}}{r \\sin{\\left(\\theta - \\varphi \\right)}} \\qquad  $"
      ],
      "text/plain": [
       "<IPython.core.display.Markdown object>"
      ]
     },
     "metadata": {},
     "output_type": "display_data"
    },
    {
     "data": {
      "text/markdown": [
       "### Coeficientes da Aceleração"
      ],
      "text/plain": [
       "<IPython.core.display.Markdown object>"
      ]
     },
     "metadata": {},
     "output_type": "display_data"
    },
    {
     "data": {
      "text/markdown": [
       "$ \\ell_{\\varphi} = \\frac{- k_{\\theta} \\cos{\\left(\\varphi \\right)} + k_{\\varphi} \\cos{\\left(\\theta \\right)} \\cos{\\left(\\theta - \\varphi \\right)}}{a \\sin^{2}{\\left(\\theta - \\varphi \\right)}} \\qquad \\ell_{\\theta} = \\frac{- k_{\\theta} \\cos{\\left(\\varphi \\right)} \\cos{\\left(\\theta - \\varphi \\right)} + k_{\\varphi} \\cos{\\left(\\theta \\right)}}{r \\sin^{2}{\\left(\\theta - \\varphi \\right)}} \\qquad  $"
      ],
      "text/plain": [
       "<IPython.core.display.Markdown object>"
      ]
     },
     "metadata": {},
     "output_type": "display_data"
    }
   ],
   "source": [
    "from LinkageMechanism import *\n",
    "\n",
    "f1 = a*cos(φ) - x - r*cos(θ)\n",
    "f2 = a*sin(φ) - r*sin(θ)\n",
    "\n",
    "coord = [x, φ, θ]\n",
    "eq = [f1, f2]\n",
    "\n",
    "MecSolve (coord, eq)\n",
    "\n",
    "F,J,K,L = MecSolve (coord, eq, ReturnMatrices)"
   ]
  },
  {
   "cell_type": "code",
   "execution_count": 6,
   "metadata": {},
   "outputs": [
    {
     "data": {
      "text/markdown": [
       "### Matrizes F e J"
      ],
      "text/plain": [
       "<IPython.core.display.Markdown object>"
      ]
     },
     "metadata": {},
     "output_type": "display_data"
    },
    {
     "data": {
      "text/markdown": [
       "$ F = \\begin{Bmatrix}x \\cos{\\left(\\theta \\right)}\\\\ x \\sin{\\left(\\theta \\right)}\\end{Bmatrix}\\qquad J = \\begin{bmatrix}- b \\sin{\\left(\\varphi \\right)} & \\sin{\\left(\\theta \\right)}\\\\ b \\cos{\\left(\\varphi \\right)} & - \\cos{\\left(\\theta \\right)}\\\\ \\end{bmatrix} $"
      ],
      "text/plain": [
       "<IPython.core.display.Markdown object>"
      ]
     },
     "metadata": {},
     "output_type": "display_data"
    },
    {
     "data": {
      "text/markdown": [
       "### Inversa de J"
      ],
      "text/plain": [
       "<IPython.core.display.Markdown object>"
      ]
     },
     "metadata": {},
     "output_type": "display_data"
    },
    {
     "data": {
      "text/latex": [
       "$\\displaystyle - \\frac{1}{b \\sin{\\left(\\theta - \\varphi \\right)}}\\left[\\begin{matrix}- \\cos{\\left(\\theta \\right)} & - \\sin{\\left(\\theta \\right)}\\\\- b \\cos{\\left(\\varphi \\right)} & - b \\sin{\\left(\\varphi \\right)}\\end{matrix}\\right]$"
      ],
      "text/plain": [
       "<IPython.core.display.Math object>"
      ]
     },
     "metadata": {},
     "output_type": "display_data"
    },
    {
     "data": {
      "text/markdown": [
       "### Matrizes de resolução velocidades (Não somos robô  🦇) 😈"
      ],
      "text/plain": [
       "<IPython.core.display.Markdown object>"
      ]
     },
     "metadata": {},
     "output_type": "display_data"
    },
    {
     "data": {
      "text/latex": [
       "$\\displaystyle \\left[\\begin{matrix}k_{\\varphi}\\\\k_{x}\\end{matrix}\\right]=\\frac{1}{b \\sin{\\left(\\theta - \\varphi \\right)}}\\left[\\begin{matrix}- \\cos{\\left(\\theta \\right)} & - \\sin{\\left(\\theta \\right)}\\\\- b \\cos{\\left(\\varphi \\right)} & - b \\sin{\\left(\\varphi \\right)}\\end{matrix}\\right]\\left[\\begin{matrix}x \\cos{\\left(\\theta \\right)}\\\\x \\sin{\\left(\\theta \\right)}\\end{matrix}\\right]$"
      ],
      "text/plain": [
       "<IPython.core.display.Math object>"
      ]
     },
     "metadata": {},
     "output_type": "display_data"
    },
    {
     "data": {
      "text/markdown": [
       "### Coeficientes de Velocidade"
      ],
      "text/plain": [
       "<IPython.core.display.Markdown object>"
      ]
     },
     "metadata": {},
     "output_type": "display_data"
    },
    {
     "data": {
      "text/markdown": [
       "$ k_{\\varphi} = - \\frac{x}{b \\sin{\\left(\\theta - \\varphi \\right)}} \\qquad k_{x} = - \\frac{x}{\\tan{\\left(\\theta - \\varphi \\right)}} \\qquad  $"
      ],
      "text/plain": [
       "<IPython.core.display.Markdown object>"
      ]
     },
     "metadata": {},
     "output_type": "display_data"
    },
    {
     "data": {
      "text/markdown": [
       "### Coeficientes da Aceleração"
      ],
      "text/plain": [
       "<IPython.core.display.Markdown object>"
      ]
     },
     "metadata": {},
     "output_type": "display_data"
    },
    {
     "data": {
      "text/markdown": [
       "$ \\ell_{\\varphi} = \\frac{- k_{x} \\sin{\\left(\\theta - \\varphi \\right)} + x \\left(1 - k_{\\varphi}\\right) \\cos{\\left(\\theta - \\varphi \\right)}}{b \\sin^{2}{\\left(\\theta - \\varphi \\right)}} \\qquad \\ell_{x} = \\frac{- k_{x} \\tan{\\left(\\theta - \\varphi \\right)} + x \\left(1 - k_{\\varphi}\\right) \\left(\\tan^{2}{\\left(\\theta - \\varphi \\right)} + 1\\right)}{\\tan^{2}{\\left(\\theta - \\varphi \\right)}} \\qquad  $"
      ],
      "text/plain": [
       "<IPython.core.display.Markdown object>"
      ]
     },
     "metadata": {},
     "output_type": "display_data"
    }
   ],
   "source": [
    "#α β θ φ ψ ω\n",
    "\n",
    "from LinkageMechanism import *\n",
    "\n",
    "f1 = b*cos(φ) + x*sin(θ) - d\n",
    "f2 = b*sin(φ) - x*cos(θ) + c\n",
    "\n",
    "coord = [θ, φ, x]\n",
    "eq = [f1, f2]\n",
    "\n",
    "\n",
    "MecSolve (coord , eq)\n",
    "\n",
    "F,J,K,L = MecSolve (coord , eq , ReturnMatrices)"
   ]
  },
  {
   "cell_type": "code",
   "execution_count": 8,
   "metadata": {},
   "outputs": [
    {
     "data": {
      "text/latex": [
       "$\\displaystyle \\sin{\\left(x \\right)}$"
      ],
      "text/plain": [
       "sin(x)"
      ]
     },
     "execution_count": 8,
     "metadata": {},
     "output_type": "execute_result"
    }
   ],
   "source": [
    "sin(pi-x)"
   ]
  },
  {
   "cell_type": "code",
   "execution_count": null,
   "metadata": {},
   "outputs": [],
   "source": []
  }
 ],
 "metadata": {
  "kernelspec": {
   "display_name": "Python 3",
   "language": "python",
   "name": "python3"
  },
  "language_info": {
   "codemirror_mode": {
    "name": "ipython",
    "version": 3
   },
   "file_extension": ".py",
   "mimetype": "text/x-python",
   "name": "python",
   "nbconvert_exporter": "python",
   "pygments_lexer": "ipython3",
   "version": "3.7.7"
  }
 },
 "nbformat": 4,
 "nbformat_minor": 4
}
